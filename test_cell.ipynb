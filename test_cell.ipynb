{
 "cells": [
  {
   "cell_type": "code",
   "execution_count": 86,
   "source": [
    "import cell\r\n",
    "import models\r\n",
    "import population\r\n",
    "import parameter_values\r\n",
    "import numpy as np"
   ],
   "outputs": [],
   "metadata": {}
  },
  {
   "cell_type": "code",
   "execution_count": 87,
   "source": [
    "from itertools import combinations"
   ],
   "outputs": [],
   "metadata": {}
  },
  {
   "cell_type": "code",
   "execution_count": 88,
   "source": [
    "import importlib\r\n",
    "importlib.reload(cell)\r\n",
    "importlib.reload(models)\r\n",
    "importlib.reload(population)\r\n",
    "importlib.reload(parameter_values)"
   ],
   "outputs": [
    {
     "output_type": "execute_result",
     "data": {
      "text/plain": [
       "<module 'parameter_values' from 'C:\\\\Users\\\\miham\\\\OneDrive - Univerza v Ljubljani\\\\Research\\\\2021_Evolution\\\\code\\\\evolution\\\\parameter_values.py'>"
      ]
     },
     "metadata": {},
     "execution_count": 88
    }
   ],
   "metadata": {}
  },
  {
   "cell_type": "code",
   "execution_count": 89,
   "source": [
    "from sympy import symbols\r\n",
    "from sympy.logic.boolalg import to_dnf"
   ],
   "outputs": [],
   "metadata": {}
  },
  {
   "cell_type": "code",
   "execution_count": 90,
   "source": [
    "models.generalised_AND(0,0,100,code=\"011\")"
   ],
   "outputs": [
    {
     "output_type": "execute_result",
     "data": {
      "text/plain": [
       "0.0"
      ]
     },
     "metadata": {},
     "execution_count": 90
    }
   ],
   "metadata": {}
  },
  {
   "cell_type": "code",
   "execution_count": 169,
   "source": [
    "from parameter_values import *\r\n",
    "\r\n",
    "\r\n",
    "def generalised_AND(code, *ins, params = (alpha, Kd, n)):        \r\n",
    "    alpha, Kd, n = params\r\n",
    "\r\n",
    "    fracs = (np.array(ins)/Kd)**n\r\n",
    "        \r\n",
    "    dy_dt = 1\r\n",
    "    for frac, weight in zip(fracs, code):        \r\n",
    "        if weight == \"1\":            \r\n",
    "            dy_dt *= frac\r\n",
    "    \r\n",
    "    dy_dt *= alpha\r\n",
    "\r\n",
    "    denom = 0\r\n",
    "    for i in range(len(fracs)+1):\r\n",
    "        elts = list(combinations(fracs,i))\r\n",
    "        for elt in elts:\r\n",
    "            print(np.prod(elt))\r\n",
    "            denom += np.prod(elt)\r\n",
    "\r\n",
    "    dy_dt /= denom\r\n",
    "\r\n",
    "    return dy_dt"
   ],
   "outputs": [],
   "metadata": {}
  },
  {
   "cell_type": "code",
   "execution_count": 170,
   "source": [
    "from functools import partial"
   ],
   "outputs": [],
   "metadata": {}
  },
  {
   "cell_type": "code",
   "execution_count": null,
   "source": [],
   "outputs": [],
   "metadata": {}
  },
  {
   "cell_type": "code",
   "execution_count": 194,
   "source": [
    "t_end=300\r\n",
    "dt = 0.1\r\n",
    "t = 200.\r\n",
    "N_states = 3\r\n",
    "state_duration = (t_end + dt) / N_states\r\n",
    "idx_state = int(t//state_duration)\r\n",
    "idx_state            "
   ],
   "outputs": [
    {
     "output_type": "execute_result",
     "data": {
      "text/plain": [
       "1"
      ]
     },
     "metadata": {},
     "execution_count": 194
    }
   ],
   "metadata": {}
  },
  {
   "cell_type": "code",
   "execution_count": 56,
   "source": [
    "in1, in2 = 0,0\r\n"
   ],
   "outputs": [],
   "metadata": {}
  },
  {
   "cell_type": "code",
   "execution_count": 57,
   "source": [
    "models.AND01(in1,in2)+models.AND10(in1,in2)"
   ],
   "outputs": [
    {
     "output_type": "execute_result",
     "data": {
      "text/plain": [
       "0.0"
      ]
     },
     "metadata": {},
     "execution_count": 57
    }
   ],
   "metadata": {}
  },
  {
   "cell_type": "code",
   "execution_count": 40,
   "source": [
    "pop = population.generate_cells_minterms(5, 2)"
   ],
   "outputs": [],
   "metadata": {}
  },
  {
   "cell_type": "code",
   "execution_count": 199,
   "source": [
    "d = {\"a\":[1,2,3], \"b\":5}\r\n",
    "list(d.values())[0]"
   ],
   "outputs": [
    {
     "output_type": "execute_result",
     "data": {
      "text/plain": [
       "[1, 2, 3]"
      ]
     },
     "metadata": {},
     "execution_count": 199
    }
   ],
   "metadata": {}
  },
  {
   "cell_type": "code",
   "execution_count": 195,
   "source": [
    "pop[0,0].plasmids"
   ],
   "outputs": [
    {
     "output_type": "error",
     "ename": "NameError",
     "evalue": "name 'pop' is not defined",
     "traceback": [
      "\u001b[1;31m---------------------------------------------------------------------------\u001b[0m",
      "\u001b[1;31mNameError\u001b[0m                                 Traceback (most recent call last)",
      "\u001b[1;32m<ipython-input-195-74979f033b4a>\u001b[0m in \u001b[0;36m<module>\u001b[1;34m\u001b[0m\n\u001b[1;32m----> 1\u001b[1;33m \u001b[0mpop\u001b[0m\u001b[1;33m[\u001b[0m\u001b[1;36m0\u001b[0m\u001b[1;33m,\u001b[0m\u001b[1;36m0\u001b[0m\u001b[1;33m]\u001b[0m\u001b[1;33m.\u001b[0m\u001b[0mplasmids\u001b[0m\u001b[1;33m\u001b[0m\u001b[1;33m\u001b[0m\u001b[0m\n\u001b[0m",
      "\u001b[1;31mNameError\u001b[0m: name 'pop' is not defined"
     ]
    }
   ],
   "metadata": {}
  },
  {
   "cell_type": "code",
   "execution_count": 29,
   "source": [
    "plasmids = [([\"in_1\"], \"x11\", \"YES\"),\r\n",
    "            ([\"in_2\"], \"x11\", \"NOT\"),\r\n",
    "            ([\"in_1\"], \"x12\", \"NOT\"),\r\n",
    "            ([\"in1,in_2\"], \"x12\", \"AND\"),\r\n",
    "            ([\"x11\"], \"y\", \"NOT\"),\r\n",
    "            ([\"x12\"], \"y\", \"NOT\")]\r\n",
    "\r\n",
    "pop = generate_population.generate_cells_function(5, plasmids)"
   ],
   "outputs": [],
   "metadata": {}
  },
  {
   "cell_type": "code",
   "execution_count": 30,
   "source": [
    "pop[0,0].plasmids"
   ],
   "outputs": [
    {
     "output_type": "execute_result",
     "data": {
      "text/plain": [
       "{'x11=YES(in_1)': {'inputs': ['in_1'],\n",
       "  'output': 'x11',\n",
       "  'f': <function models.YES(x, params=(10, 1, 2))>},\n",
       " 'x11=NOT(in_2)': {'inputs': ['in_2'],\n",
       "  'output': 'x11',\n",
       "  'f': <function models.NOT(x, params=(10, 1, 2))>},\n",
       " 'x12=NOT(in_1)': {'inputs': ['in_1'],\n",
       "  'output': 'x12',\n",
       "  'f': <function models.NOT(x, params=(10, 1, 2))>},\n",
       " 'x12=AND(in1,in_2)': {'inputs': ['in1,in_2'],\n",
       "  'output': 'x12',\n",
       "  'f': <function models.AND(in1, in2, params=(10, 1, 2))>},\n",
       " 'y=NOT(x11)': {'inputs': ['x11'],\n",
       "  'output': 'y',\n",
       "  'f': <function models.NOT(x, params=(10, 1, 2))>},\n",
       " 'y=NOT(x12)': {'inputs': ['x12'],\n",
       "  'output': 'y',\n",
       "  'f': <function models.NOT(x, params=(10, 1, 2))>}}"
      ]
     },
     "metadata": {},
     "execution_count": 30
    }
   ],
   "metadata": {}
  },
  {
   "cell_type": "code",
   "execution_count": 25,
   "source": [
    "pop[0,0].basic_functions"
   ],
   "outputs": [
    {
     "output_type": "execute_result",
     "data": {
      "text/plain": [
       "{'fitness_operon': {'inputs': ['eval', 'y'],\n",
       "  'output': 'fitness',\n",
       "  'f': <function models.EQU(in1, in2, params=(10, 1, 2))>,\n",
       "  'params': (2.5, 1, 2),\n",
       "  'mod_degradation': 0.2},\n",
       " 'apoptosis_operon': {'inputs': ['fitness'],\n",
       "  'output': 'apoptosis',\n",
       "  'f': <function models.NOT(x, params=(10, 1, 2))>,\n",
       "  'params': (1, 1, 4),\n",
       "  'mod_degradation': 0.01}}"
      ]
     },
     "metadata": {},
     "execution_count": 25
    }
   ],
   "metadata": {}
  },
  {
   "cell_type": "code",
   "execution_count": 26,
   "source": [
    "pop[0,0].decode_function()"
   ],
   "outputs": [
    {
     "output_type": "execute_result",
     "data": {
      "text/plain": [
       "'y=(in_1 & ~in_2) | (in_2 & ~in_1)'"
      ]
     },
     "metadata": {},
     "execution_count": 26
    }
   ],
   "metadata": {}
  },
  {
   "cell_type": "code",
   "execution_count": 35,
   "source": [
    "generate_population.generate_program_plasmids(N_inputs=2, N_layers=2, N_terms=2,full_connectivity=True)"
   ],
   "outputs": [
    {
     "output_type": "execute_result",
     "data": {
      "text/plain": [
       "({'P0_0_YES': {'inputs': ['in_1'],\n",
       "   'output': 'x_1_1',\n",
       "   'f': <function models.YES(x, params=(10, 1, 2))>},\n",
       "  'P0_0_NOT': {'inputs': ['in_1'],\n",
       "   'output': 'x_1_1',\n",
       "   'f': <function models.NOT(x, params=(10, 1, 2))>},\n",
       "  'P0_1_YES': {'inputs': ['in_1'],\n",
       "   'output': 'x_1_2',\n",
       "   'f': <function models.YES(x, params=(10, 1, 2))>},\n",
       "  'P0_1_NOT': {'inputs': ['in_1'],\n",
       "   'output': 'x_1_2',\n",
       "   'f': <function models.NOT(x, params=(10, 1, 2))>},\n",
       "  'P0_2_YES': {'inputs': ['in_2'],\n",
       "   'output': 'x_1_1',\n",
       "   'f': <function models.YES(x, params=(10, 1, 2))>},\n",
       "  'P0_2_NOT': {'inputs': ['in_2'],\n",
       "   'output': 'x_1_1',\n",
       "   'f': <function models.NOT(x, params=(10, 1, 2))>},\n",
       "  'P0_3_YES': {'inputs': ['in_2'],\n",
       "   'output': 'x_1_2',\n",
       "   'f': <function models.YES(x, params=(10, 1, 2))>},\n",
       "  'P0_3_NOT': {'inputs': ['in_2'],\n",
       "   'output': 'x_1_2',\n",
       "   'f': <function models.NOT(x, params=(10, 1, 2))>},\n",
       "  'P0_0_AND': {'inputs': ['in_1', 'in_2'],\n",
       "   'output': 'x_1_1',\n",
       "   'f': <function models.AND(in1, in2, params=(10, 1, 2))>},\n",
       "  'P0_1_AND': {'inputs': ['in_1', 'in_2'],\n",
       "   'output': 'x_1_2',\n",
       "   'f': <function models.AND(in1, in2, params=(10, 1, 2))>},\n",
       "  'P1_0_YES': {'inputs': ['in_1'],\n",
       "   'output': 'x_2_1',\n",
       "   'f': <function models.YES(x, params=(10, 1, 2))>},\n",
       "  'P1_0_NOT': {'inputs': ['in_1'],\n",
       "   'output': 'x_2_1',\n",
       "   'f': <function models.NOT(x, params=(10, 1, 2))>},\n",
       "  'P1_1_YES': {'inputs': ['in_1'],\n",
       "   'output': 'x_2_2',\n",
       "   'f': <function models.YES(x, params=(10, 1, 2))>},\n",
       "  'P1_1_NOT': {'inputs': ['in_1'],\n",
       "   'output': 'x_2_2',\n",
       "   'f': <function models.NOT(x, params=(10, 1, 2))>},\n",
       "  'P1_2_YES': {'inputs': ['in_2'],\n",
       "   'output': 'x_2_1',\n",
       "   'f': <function models.YES(x, params=(10, 1, 2))>},\n",
       "  'P1_2_NOT': {'inputs': ['in_2'],\n",
       "   'output': 'x_2_1',\n",
       "   'f': <function models.NOT(x, params=(10, 1, 2))>},\n",
       "  'P1_3_YES': {'inputs': ['in_2'],\n",
       "   'output': 'x_2_2',\n",
       "   'f': <function models.YES(x, params=(10, 1, 2))>},\n",
       "  'P1_3_NOT': {'inputs': ['in_2'],\n",
       "   'output': 'x_2_2',\n",
       "   'f': <function models.NOT(x, params=(10, 1, 2))>},\n",
       "  'P1_4_YES': {'inputs': ['x_1_1'],\n",
       "   'output': 'x_2_1',\n",
       "   'f': <function models.YES(x, params=(10, 1, 2))>},\n",
       "  'P1_4_NOT': {'inputs': ['x_1_1'],\n",
       "   'output': 'x_2_1',\n",
       "   'f': <function models.NOT(x, params=(10, 1, 2))>},\n",
       "  'P1_5_YES': {'inputs': ['x_1_1'],\n",
       "   'output': 'x_2_2',\n",
       "   'f': <function models.YES(x, params=(10, 1, 2))>},\n",
       "  'P1_5_NOT': {'inputs': ['x_1_1'],\n",
       "   'output': 'x_2_2',\n",
       "   'f': <function models.NOT(x, params=(10, 1, 2))>},\n",
       "  'P1_6_YES': {'inputs': ['x_1_2'],\n",
       "   'output': 'x_2_1',\n",
       "   'f': <function models.YES(x, params=(10, 1, 2))>},\n",
       "  'P1_6_NOT': {'inputs': ['x_1_2'],\n",
       "   'output': 'x_2_1',\n",
       "   'f': <function models.NOT(x, params=(10, 1, 2))>},\n",
       "  'P1_7_YES': {'inputs': ['x_1_2'],\n",
       "   'output': 'x_2_2',\n",
       "   'f': <function models.YES(x, params=(10, 1, 2))>},\n",
       "  'P1_7_NOT': {'inputs': ['x_1_2'],\n",
       "   'output': 'x_2_2',\n",
       "   'f': <function models.NOT(x, params=(10, 1, 2))>},\n",
       "  'P1_0_AND': {'inputs': ['in_1', 'in_2'],\n",
       "   'output': 'x_2_1',\n",
       "   'f': <function models.AND(in1, in2, params=(10, 1, 2))>},\n",
       "  'P1_1_AND': {'inputs': ['in_1', 'in_2'],\n",
       "   'output': 'x_2_2',\n",
       "   'f': <function models.AND(in1, in2, params=(10, 1, 2))>},\n",
       "  'P1_2_AND': {'inputs': ['in_1', 'x_1_1'],\n",
       "   'output': 'x_2_1',\n",
       "   'f': <function models.AND(in1, in2, params=(10, 1, 2))>},\n",
       "  'P1_3_AND': {'inputs': ['in_1', 'x_1_1'],\n",
       "   'output': 'x_2_2',\n",
       "   'f': <function models.AND(in1, in2, params=(10, 1, 2))>},\n",
       "  'P1_4_AND': {'inputs': ['in_1', 'x_1_2'],\n",
       "   'output': 'x_2_1',\n",
       "   'f': <function models.AND(in1, in2, params=(10, 1, 2))>},\n",
       "  'P1_5_AND': {'inputs': ['in_1', 'x_1_2'],\n",
       "   'output': 'x_2_2',\n",
       "   'f': <function models.AND(in1, in2, params=(10, 1, 2))>},\n",
       "  'P1_6_AND': {'inputs': ['in_2', 'x_1_1'],\n",
       "   'output': 'x_2_1',\n",
       "   'f': <function models.AND(in1, in2, params=(10, 1, 2))>},\n",
       "  'P1_7_AND': {'inputs': ['in_2', 'x_1_1'],\n",
       "   'output': 'x_2_2',\n",
       "   'f': <function models.AND(in1, in2, params=(10, 1, 2))>},\n",
       "  'P1_8_AND': {'inputs': ['in_2', 'x_1_2'],\n",
       "   'output': 'x_2_1',\n",
       "   'f': <function models.AND(in1, in2, params=(10, 1, 2))>},\n",
       "  'P1_9_AND': {'inputs': ['in_2', 'x_1_2'],\n",
       "   'output': 'x_2_2',\n",
       "   'f': <function models.AND(in1, in2, params=(10, 1, 2))>},\n",
       "  'P1_10_AND': {'inputs': ['x_1_1', 'x_1_2'],\n",
       "   'output': 'x_2_1',\n",
       "   'f': <function models.AND(in1, in2, params=(10, 1, 2))>},\n",
       "  'P1_11_AND': {'inputs': ['x_1_1', 'x_1_2'],\n",
       "   'output': 'x_2_2',\n",
       "   'f': <function models.AND(in1, in2, params=(10, 1, 2))>},\n",
       "  'P2_0_YES': {'inputs': ['in_1'],\n",
       "   'output': 'y',\n",
       "   'f': <function models.YES(x, params=(10, 1, 2))>},\n",
       "  'P2_0_NOT': {'inputs': ['in_1'],\n",
       "   'output': 'y',\n",
       "   'f': <function models.NOT(x, params=(10, 1, 2))>},\n",
       "  'P2_1_YES': {'inputs': ['in_2'],\n",
       "   'output': 'y',\n",
       "   'f': <function models.YES(x, params=(10, 1, 2))>},\n",
       "  'P2_1_NOT': {'inputs': ['in_2'],\n",
       "   'output': 'y',\n",
       "   'f': <function models.NOT(x, params=(10, 1, 2))>},\n",
       "  'P2_2_YES': {'inputs': ['x_1_1'],\n",
       "   'output': 'y',\n",
       "   'f': <function models.YES(x, params=(10, 1, 2))>},\n",
       "  'P2_2_NOT': {'inputs': ['x_1_1'],\n",
       "   'output': 'y',\n",
       "   'f': <function models.NOT(x, params=(10, 1, 2))>},\n",
       "  'P2_3_YES': {'inputs': ['x_1_2'],\n",
       "   'output': 'y',\n",
       "   'f': <function models.YES(x, params=(10, 1, 2))>},\n",
       "  'P2_3_NOT': {'inputs': ['x_1_2'],\n",
       "   'output': 'y',\n",
       "   'f': <function models.NOT(x, params=(10, 1, 2))>},\n",
       "  'P2_4_YES': {'inputs': ['x_2_1'],\n",
       "   'output': 'y',\n",
       "   'f': <function models.YES(x, params=(10, 1, 2))>},\n",
       "  'P2_4_NOT': {'inputs': ['x_2_1'],\n",
       "   'output': 'y',\n",
       "   'f': <function models.NOT(x, params=(10, 1, 2))>},\n",
       "  'P2_5_YES': {'inputs': ['x_2_2'],\n",
       "   'output': 'y',\n",
       "   'f': <function models.YES(x, params=(10, 1, 2))>},\n",
       "  'P2_5_NOT': {'inputs': ['x_2_2'],\n",
       "   'output': 'y',\n",
       "   'f': <function models.NOT(x, params=(10, 1, 2))>},\n",
       "  'P2_0_AND': {'inputs': ['in_1', 'in_2'],\n",
       "   'output': 'y',\n",
       "   'f': <function models.AND(in1, in2, params=(10, 1, 2))>},\n",
       "  'P2_1_AND': {'inputs': ['in_1', 'x_1_1'],\n",
       "   'output': 'y',\n",
       "   'f': <function models.AND(in1, in2, params=(10, 1, 2))>},\n",
       "  'P2_2_AND': {'inputs': ['in_1', 'x_1_2'],\n",
       "   'output': 'y',\n",
       "   'f': <function models.AND(in1, in2, params=(10, 1, 2))>},\n",
       "  'P2_3_AND': {'inputs': ['in_1', 'x_2_1'],\n",
       "   'output': 'y',\n",
       "   'f': <function models.AND(in1, in2, params=(10, 1, 2))>},\n",
       "  'P2_4_AND': {'inputs': ['in_1', 'x_2_2'],\n",
       "   'output': 'y',\n",
       "   'f': <function models.AND(in1, in2, params=(10, 1, 2))>},\n",
       "  'P2_5_AND': {'inputs': ['in_2', 'x_1_1'],\n",
       "   'output': 'y',\n",
       "   'f': <function models.AND(in1, in2, params=(10, 1, 2))>},\n",
       "  'P2_6_AND': {'inputs': ['in_2', 'x_1_2'],\n",
       "   'output': 'y',\n",
       "   'f': <function models.AND(in1, in2, params=(10, 1, 2))>},\n",
       "  'P2_7_AND': {'inputs': ['in_2', 'x_2_1'],\n",
       "   'output': 'y',\n",
       "   'f': <function models.AND(in1, in2, params=(10, 1, 2))>},\n",
       "  'P2_8_AND': {'inputs': ['in_2', 'x_2_2'],\n",
       "   'output': 'y',\n",
       "   'f': <function models.AND(in1, in2, params=(10, 1, 2))>},\n",
       "  'P2_9_AND': {'inputs': ['x_1_1', 'x_1_2'],\n",
       "   'output': 'y',\n",
       "   'f': <function models.AND(in1, in2, params=(10, 1, 2))>},\n",
       "  'P2_10_AND': {'inputs': ['x_1_1', 'x_2_1'],\n",
       "   'output': 'y',\n",
       "   'f': <function models.AND(in1, in2, params=(10, 1, 2))>},\n",
       "  'P2_11_AND': {'inputs': ['x_1_1', 'x_2_2'],\n",
       "   'output': 'y',\n",
       "   'f': <function models.AND(in1, in2, params=(10, 1, 2))>},\n",
       "  'P2_12_AND': {'inputs': ['x_1_2', 'x_2_1'],\n",
       "   'output': 'y',\n",
       "   'f': <function models.AND(in1, in2, params=(10, 1, 2))>},\n",
       "  'P2_13_AND': {'inputs': ['x_1_2', 'x_2_2'],\n",
       "   'output': 'y',\n",
       "   'f': <function models.AND(in1, in2, params=(10, 1, 2))>},\n",
       "  'P2_14_AND': {'inputs': ['x_2_1', 'x_2_2'],\n",
       "   'output': 'y',\n",
       "   'f': <function models.AND(in1, in2, params=(10, 1, 2))>}},\n",
       " {'layer0': ['P0_0_YES',\n",
       "   'P0_0_NOT',\n",
       "   'P0_1_YES',\n",
       "   'P0_1_NOT',\n",
       "   'P0_2_YES',\n",
       "   'P0_2_NOT',\n",
       "   'P0_3_YES',\n",
       "   'P0_3_NOT',\n",
       "   'P0_0_AND',\n",
       "   'P0_1_AND'],\n",
       "  'layer1': ['P1_0_YES',\n",
       "   'P1_0_NOT',\n",
       "   'P1_1_YES',\n",
       "   'P1_1_NOT',\n",
       "   'P1_2_YES',\n",
       "   'P1_2_NOT',\n",
       "   'P1_3_YES',\n",
       "   'P1_3_NOT',\n",
       "   'P1_4_YES',\n",
       "   'P1_4_NOT',\n",
       "   'P1_5_YES',\n",
       "   'P1_5_NOT',\n",
       "   'P1_6_YES',\n",
       "   'P1_6_NOT',\n",
       "   'P1_7_YES',\n",
       "   'P1_7_NOT',\n",
       "   'P1_0_AND',\n",
       "   'P1_1_AND',\n",
       "   'P1_2_AND',\n",
       "   'P1_3_AND',\n",
       "   'P1_4_AND',\n",
       "   'P1_5_AND',\n",
       "   'P1_6_AND',\n",
       "   'P1_7_AND',\n",
       "   'P1_8_AND',\n",
       "   'P1_9_AND',\n",
       "   'P1_10_AND',\n",
       "   'P1_11_AND'],\n",
       "  'layer_out': ['P2_0_YES',\n",
       "   'P2_0_NOT',\n",
       "   'P2_1_YES',\n",
       "   'P2_1_NOT',\n",
       "   'P2_2_YES',\n",
       "   'P2_2_NOT',\n",
       "   'P2_3_YES',\n",
       "   'P2_3_NOT',\n",
       "   'P2_4_YES',\n",
       "   'P2_4_NOT',\n",
       "   'P2_5_YES',\n",
       "   'P2_5_NOT',\n",
       "   'P2_0_AND',\n",
       "   'P2_1_AND',\n",
       "   'P2_2_AND',\n",
       "   'P2_3_AND',\n",
       "   'P2_4_AND',\n",
       "   'P2_5_AND',\n",
       "   'P2_6_AND',\n",
       "   'P2_7_AND',\n",
       "   'P2_8_AND',\n",
       "   'P2_9_AND',\n",
       "   'P2_10_AND',\n",
       "   'P2_11_AND',\n",
       "   'P2_12_AND',\n",
       "   'P2_13_AND',\n",
       "   'P2_14_AND']})"
      ]
     },
     "metadata": {},
     "execution_count": 35
    }
   ],
   "metadata": {}
  },
  {
   "cell_type": "code",
   "execution_count": null,
   "source": [],
   "outputs": [],
   "metadata": {}
  },
  {
   "cell_type": "code",
   "execution_count": 27,
   "source": [
    "pop = generate_population.generate_cells(N=4, N_inputs=2, N_layers=2, N_terms=2, layered=False)"
   ],
   "outputs": [],
   "metadata": {}
  },
  {
   "cell_type": "code",
   "execution_count": null,
   "source": [],
   "outputs": [],
   "metadata": {}
  },
  {
   "cell_type": "code",
   "execution_count": 31,
   "source": [
    "for i in range(4):\n",
    "    for j in range(4):\n",
    "        print(list(pop[i,j].plasmids.values()))\n",
    "        print()"
   ],
   "outputs": [
    {
     "output_type": "stream",
     "name": "stdout",
     "text": [
      "[{'inputs': ['x_1_1', 'x_1_2'], 'output': 'x_2_2', 'f': <function AND at 0x000001F2DEC81E18>}, {'inputs': ['x_2_2'], 'output': 'y', 'f': <function NOT at 0x000001F2DEC81D90>}, {'inputs': ['x_1_1'], 'output': 'x_2_2', 'f': <function YES at 0x000001F2DEC81510>}, {'inputs': ['x_1_2'], 'output': 'x_2_2', 'f': <function YES at 0x000001F2DEC81510>}, {'inputs': ['in_1'], 'output': 'x_2_2', 'f': <function YES at 0x000001F2DEC81510>}]\n",
      "\n",
      "[{'inputs': ['in_1', 'in_2'], 'output': 'x_1_1', 'f': <function AND at 0x000001F2DEC81E18>}, {'inputs': ['x_1_1'], 'output': 'x_2_1', 'f': <function NOT at 0x000001F2DEC81D90>}, {'inputs': ['x_1_1'], 'output': 'x_2_2', 'f': <function NOT at 0x000001F2DEC81D90>}, {'inputs': ['in_2'], 'output': 'x_1_2', 'f': <function YES at 0x000001F2DEC81510>}, {'inputs': ['in_1'], 'output': 'x_1_1', 'f': <function NOT at 0x000001F2DEC81D90>}]\n",
      "\n",
      "[{'inputs': ['in_1'], 'output': 'x_1_2', 'f': <function YES at 0x000001F2DEC81510>}, {'inputs': ['in_1'], 'output': 'x_2_1', 'f': <function NOT at 0x000001F2DEC81D90>}, {'inputs': ['in_2'], 'output': 'x_1_1', 'f': <function YES at 0x000001F2DEC81510>}, {'inputs': ['in_1', 'in_2'], 'output': 'x_1_1', 'f': <function AND at 0x000001F2DEC81E18>}, {'inputs': ['in_1'], 'output': 'x_1_1', 'f': <function NOT at 0x000001F2DEC81D90>}]\n",
      "\n",
      "[{'inputs': ['in_1'], 'output': 'x_1_1', 'f': <function YES at 0x000001F2DEC81510>}, {'inputs': ['x_1_2'], 'output': 'x_2_2', 'f': <function YES at 0x000001F2DEC81510>}, {'inputs': ['x_1_2'], 'output': 'x_2_2', 'f': <function NOT at 0x000001F2DEC81D90>}, {'inputs': ['x_2_2'], 'output': 'y', 'f': <function NOT at 0x000001F2DEC81D90>}, {'inputs': ['in_1', 'in_2'], 'output': 'x_2_2', 'f': <function AND at 0x000001F2DEC81E18>}]\n",
      "\n",
      "[{'inputs': ['x_1_2'], 'output': 'x_2_1', 'f': <function NOT at 0x000001F2DEC81D90>}, {'inputs': ['in_2'], 'output': 'x_2_2', 'f': <function YES at 0x000001F2DEC81510>}, {'inputs': ['in_1', 'x_1_1'], 'output': 'x_2_1', 'f': <function AND at 0x000001F2DEC81E18>}, {'inputs': ['in_1'], 'output': 'x_2_1', 'f': <function NOT at 0x000001F2DEC81D90>}, {'inputs': ['in_2'], 'output': 'x_1_2', 'f': <function YES at 0x000001F2DEC81510>}]\n",
      "\n",
      "[{'inputs': ['x_1_2'], 'output': 'x_2_2', 'f': <function NOT at 0x000001F2DEC81D90>}, {'inputs': ['in_1', 'in_2'], 'output': 'x_2_1', 'f': <function AND at 0x000001F2DEC81E18>}, {'inputs': ['in_1'], 'output': 'x_1_2', 'f': <function YES at 0x000001F2DEC81510>}, {'inputs': ['in_1', 'in_2'], 'output': 'x_1_2', 'f': <function AND at 0x000001F2DEC81E18>}, {'inputs': ['in_2'], 'output': 'x_1_2', 'f': <function NOT at 0x000001F2DEC81D90>}]\n",
      "\n",
      "[{'inputs': ['in_1', 'x_1_1'], 'output': 'x_2_2', 'f': <function AND at 0x000001F2DEC81E18>}, {'inputs': ['in_2'], 'output': 'x_2_1', 'f': <function NOT at 0x000001F2DEC81D90>}, {'inputs': ['in_2', 'x_1_1'], 'output': 'x_2_1', 'f': <function AND at 0x000001F2DEC81E18>}, {'inputs': ['x_1_2'], 'output': 'x_2_2', 'f': <function YES at 0x000001F2DEC81510>}, {'inputs': ['in_1', 'in_2'], 'output': 'x_1_2', 'f': <function AND at 0x000001F2DEC81E18>}]\n",
      "\n",
      "[{'inputs': ['x_1_1'], 'output': 'x_2_1', 'f': <function YES at 0x000001F2DEC81510>}, {'inputs': ['x_2_1'], 'output': 'y', 'f': <function NOT at 0x000001F2DEC81D90>}, {'inputs': ['in_2', 'x_1_1'], 'output': 'x_2_1', 'f': <function AND at 0x000001F2DEC81E18>}, {'inputs': ['x_1_1'], 'output': 'x_2_1', 'f': <function NOT at 0x000001F2DEC81D90>}, {'inputs': ['x_1_1', 'x_1_2'], 'output': 'x_2_1', 'f': <function AND at 0x000001F2DEC81E18>}]\n",
      "\n",
      "[{'inputs': ['x_1_1'], 'output': 'x_2_2', 'f': <function YES at 0x000001F2DEC81510>}, {'inputs': ['in_1'], 'output': 'x_2_1', 'f': <function NOT at 0x000001F2DEC81D90>}, {'inputs': ['in_2'], 'output': 'x_2_2', 'f': <function NOT at 0x000001F2DEC81D90>}, {'inputs': ['in_2', 'x_1_1'], 'output': 'x_2_2', 'f': <function AND at 0x000001F2DEC81E18>}, {'inputs': ['in_2'], 'output': 'x_2_1', 'f': <function NOT at 0x000001F2DEC81D90>}]\n",
      "\n",
      "[{'inputs': ['in_1'], 'output': 'x_2_1', 'f': <function YES at 0x000001F2DEC81510>}, {'inputs': ['x_2_2'], 'output': 'y', 'f': <function YES at 0x000001F2DEC81510>}, {'inputs': ['in_1'], 'output': 'x_2_2', 'f': <function NOT at 0x000001F2DEC81D90>}, {'inputs': ['x_1_2'], 'output': 'x_2_2', 'f': <function NOT at 0x000001F2DEC81D90>}, {'inputs': ['in_1', 'x_1_2'], 'output': 'x_2_1', 'f': <function AND at 0x000001F2DEC81E18>}]\n",
      "\n",
      "[{'inputs': ['in_2'], 'output': 'x_2_1', 'f': <function NOT at 0x000001F2DEC81D90>}, {'inputs': ['in_2', 'x_1_1'], 'output': 'x_2_2', 'f': <function AND at 0x000001F2DEC81E18>}, {'inputs': ['in_2'], 'output': 'x_1_2', 'f': <function YES at 0x000001F2DEC81510>}, {'inputs': ['x_1_1'], 'output': 'x_2_2', 'f': <function NOT at 0x000001F2DEC81D90>}, {'inputs': ['in_1', 'in_2'], 'output': 'x_1_1', 'f': <function AND at 0x000001F2DEC81E18>}]\n",
      "\n",
      "[{'inputs': ['x_1_1'], 'output': 'x_2_1', 'f': <function YES at 0x000001F2DEC81510>}, {'inputs': ['in_2'], 'output': 'x_1_2', 'f': <function YES at 0x000001F2DEC81510>}, {'inputs': ['in_1', 'in_2'], 'output': 'x_1_1', 'f': <function AND at 0x000001F2DEC81E18>}, {'inputs': ['in_1'], 'output': 'x_1_2', 'f': <function YES at 0x000001F2DEC81510>}, {'inputs': ['x_1_1'], 'output': 'x_2_2', 'f': <function YES at 0x000001F2DEC81510>}]\n",
      "\n",
      "[{'inputs': ['in_1'], 'output': 'x_2_1', 'f': <function YES at 0x000001F2DEC81510>}, {'inputs': ['in_2', 'x_1_1'], 'output': 'x_2_2', 'f': <function AND at 0x000001F2DEC81E18>}, {'inputs': ['x_1_2'], 'output': 'x_2_1', 'f': <function YES at 0x000001F2DEC81510>}, {'inputs': ['in_2', 'x_1_2'], 'output': 'x_2_2', 'f': <function AND at 0x000001F2DEC81E18>}, {'inputs': ['in_2'], 'output': 'x_1_1', 'f': <function YES at 0x000001F2DEC81510>}]\n",
      "\n",
      "[{'inputs': ['x_1_1'], 'output': 'x_2_2', 'f': <function YES at 0x000001F2DEC81510>}, {'inputs': ['in_1', 'x_1_1'], 'output': 'x_2_1', 'f': <function AND at 0x000001F2DEC81E18>}, {'inputs': ['x_1_1', 'x_1_2'], 'output': 'x_2_2', 'f': <function AND at 0x000001F2DEC81E18>}, {'inputs': ['x_1_2'], 'output': 'x_2_2', 'f': <function NOT at 0x000001F2DEC81D90>}, {'inputs': ['in_2'], 'output': 'x_1_2', 'f': <function NOT at 0x000001F2DEC81D90>}]\n",
      "\n",
      "[{'inputs': ['in_1', 'in_2'], 'output': 'x_1_1', 'f': <function AND at 0x000001F2DEC81E18>}, {'inputs': ['in_1'], 'output': 'x_2_2', 'f': <function NOT at 0x000001F2DEC81D90>}, {'inputs': ['in_1', 'x_1_2'], 'output': 'x_2_1', 'f': <function AND at 0x000001F2DEC81E18>}, {'inputs': ['in_1'], 'output': 'x_1_2', 'f': <function NOT at 0x000001F2DEC81D90>}, {'inputs': ['in_2', 'x_1_1'], 'output': 'x_2_2', 'f': <function AND at 0x000001F2DEC81E18>}]\n",
      "\n",
      "[{'inputs': ['x_1_1'], 'output': 'x_2_2', 'f': <function NOT at 0x000001F2DEC81D90>}, {'inputs': ['x_1_1', 'x_1_2'], 'output': 'x_2_2', 'f': <function AND at 0x000001F2DEC81E18>}, {'inputs': ['in_1', 'x_1_1'], 'output': 'x_2_1', 'f': <function AND at 0x000001F2DEC81E18>}, {'inputs': ['in_1', 'in_2'], 'output': 'x_1_2', 'f': <function AND at 0x000001F2DEC81E18>}, {'inputs': ['in_1'], 'output': 'x_1_2', 'f': <function NOT at 0x000001F2DEC81D90>}]\n",
      "\n"
     ]
    }
   ],
   "metadata": {}
  },
  {
   "cell_type": "code",
   "execution_count": 163,
   "source": [
    "generate_population.cross_random_neighbours(pop, 1,1)"
   ],
   "outputs": [
    {
     "output_type": "stream",
     "name": "stdout",
     "text": [
      "dict_keys(['P1_0_NOT', 'P0_1_YES', 'P0_0_NOT', 'P1_0_YES'])\n",
      "dict_keys(['P0_1_NOT'])\n",
      "dict_keys(['P0_0_NOT', 'P1_0_YES'])\n"
     ]
    },
    {
     "output_type": "execute_result",
     "data": {
      "text/plain": [
       "<cell.cell at 0x1f97efff588>"
      ]
     },
     "metadata": {},
     "execution_count": 163
    }
   ],
   "metadata": {}
  },
  {
   "cell_type": "code",
   "execution_count": 81,
   "source": [
    "c = generate_population.find_best_neighbour(pop,0,0, mode=\"fitness\")"
   ],
   "outputs": [],
   "metadata": {}
  },
  {
   "cell_type": "code",
   "execution_count": 5,
   "source": [
    "c.state['fitness']"
   ],
   "outputs": [
    {
     "output_type": "execute_result",
     "data": {
      "text/plain": [
       "0"
      ]
     },
     "metadata": {},
     "execution_count": 5
    }
   ],
   "metadata": {}
  },
  {
   "cell_type": "code",
   "execution_count": 6,
   "source": [
    "from sympy.abc import x, B, D"
   ],
   "outputs": [],
   "metadata": {}
  },
  {
   "cell_type": "code",
   "execution_count": 13,
   "source": [
    "from sympy import symbols\n",
    "from sympy.logic.boolalg import to_cnf\n",
    "\n",
    "inputs = ['in_1', 'in_2']\n"
   ],
   "outputs": [],
   "metadata": {}
  },
  {
   "cell_type": "code",
   "execution_count": null,
   "source": [
    "locals()['in_1'], locals()['in_2'] = symbols(\",\".join(inputs))"
   ],
   "outputs": [],
   "metadata": {}
  },
  {
   "cell_type": "code",
   "execution_count": 14,
   "source": [
    "type(symbols(\",\".join(inputs)))"
   ],
   "outputs": [
    {
     "output_type": "execute_result",
     "data": {
      "text/plain": [
       "tuple"
      ]
     },
     "metadata": {},
     "execution_count": 14
    }
   ],
   "metadata": {}
  },
  {
   "cell_type": "code",
   "execution_count": null,
   "source": [],
   "outputs": [],
   "metadata": {}
  },
  {
   "cell_type": "code",
   "execution_count": 8,
   "source": [
    "y=~(in_1 | ~(in_2) | in_2) | in_1 | ~(in_2) | in_2"
   ],
   "outputs": [],
   "metadata": {}
  },
  {
   "cell_type": "code",
   "execution_count": 9,
   "source": [
    "x = to_cnf(y, True)"
   ],
   "outputs": [],
   "metadata": {}
  },
  {
   "cell_type": "code",
   "execution_count": 91,
   "source": [
    "str(x)"
   ],
   "outputs": [
    {
     "output_type": "execute_result",
     "data": {
      "text/plain": [
       "'True'"
      ]
     },
     "metadata": {},
     "execution_count": 91
    }
   ],
   "metadata": {}
  },
  {
   "cell_type": "code",
   "execution_count": 21,
   "source": [
    "generate_population.give_plasmid(pop,0,0,p)"
   ],
   "outputs": [
    {
     "output_type": "stream",
     "name": "stdout",
     "text": [
      "y=NOT(NOT(in_1))\n",
      "{'P0_0_NOT': {'inputs': ['in_1'], 'output': 'x_1_1', 'f': <function NOT at 0x000001EFEDA34488>}, 'P1_0_NOT': {'inputs': ['x_1_1'], 'output': 'y', 'f': <function NOT at 0x000001EFEDA34488>}}\n",
      "y=NOT(NOT(in_1) OR NOT(in_2))\n",
      "{'P0_0_NOT': {'inputs': ['in_1'], 'output': 'x_1_1', 'f': <function NOT at 0x000001EFEDA34488>}, 'P1_0_NOT': {'inputs': ['x_1_1'], 'output': 'y', 'f': <function NOT at 0x000001EFEDA34488>}, 'P0_1_NOT': {'inputs': ['in_2'], 'output': 'x_1_1', 'f': <function NOT at 0x000001EFEDA34488>}}\n"
     ]
    }
   ],
   "metadata": {}
  },
  {
   "cell_type": "code",
   "execution_count": 94,
   "source": [
    "pop[1,1].plasmids"
   ],
   "outputs": [
    {
     "output_type": "execute_result",
     "data": {
      "text/plain": [
       "{'P0_0_YES': {'inputs': ['in_1'],\n",
       "  'output': 'x_1_1',\n",
       "  'f': <function models.YES(x, params=(10, 1, 2))>},\n",
       " 'P1_0_NOT': {'inputs': ['x_1_1'],\n",
       "  'output': 'y',\n",
       "  'f': <function models.NOT(x, params=(10, 1, 2))>},\n",
       " 'P1_0_YES': {'inputs': ['x_1_1'],\n",
       "  'output': 'y',\n",
       "  'f': <function models.YES(x, params=(10, 1, 2))>}}"
      ]
     },
     "metadata": {},
     "execution_count": 94
    }
   ],
   "metadata": {}
  },
  {
   "cell_type": "code",
   "execution_count": 227,
   "source": [
    "pop[1,1].update(global_vars = {\"in1\": 10, \"in2\": 10, \"eval\": 10})"
   ],
   "outputs": [],
   "metadata": {}
  },
  {
   "cell_type": "code",
   "execution_count": 233,
   "source": [
    "pop[0,0].decode_function()"
   ],
   "outputs": [
    {
     "output_type": "execute_result",
     "data": {
      "text/plain": [
       "'y=NOT(NOT(in_1) OR in_1)'"
      ]
     },
     "metadata": {},
     "execution_count": 233
    }
   ],
   "metadata": {}
  },
  {
   "cell_type": "code",
   "execution_count": 219,
   "source": [
    "C = cell.cell()\n",
    "C.add_basic_function(\"fitness_operon\", [\"eval\", \"y\"], \"fitness\", models.AND)"
   ],
   "outputs": [],
   "metadata": {}
  },
  {
   "cell_type": "code",
   "execution_count": 264,
   "source": [
    "pop.shape[0]"
   ],
   "outputs": [
    {
     "output_type": "execute_result",
     "data": {
      "text/plain": [
       "1"
      ]
     },
     "metadata": {},
     "execution_count": 264
    }
   ],
   "metadata": {}
  },
  {
   "cell_type": "code",
   "execution_count": 236,
   "source": [
    "100.0 % 10"
   ],
   "outputs": [
    {
     "output_type": "execute_result",
     "data": {
      "text/plain": [
       "0.0"
      ]
     },
     "metadata": {},
     "execution_count": 236
    }
   ],
   "metadata": {}
  },
  {
   "cell_type": "code",
   "execution_count": 244,
   "source": [
    "(1.0 % 1) == 0"
   ],
   "outputs": [
    {
     "output_type": "execute_result",
     "data": {
      "text/plain": [
       "True"
      ]
     },
     "metadata": {},
     "execution_count": 244
    }
   ],
   "metadata": {}
  },
  {
   "cell_type": "code",
   "execution_count": 247,
   "source": [
    "d = {'a':1, 'b':2}"
   ],
   "outputs": [],
   "metadata": {}
  },
  {
   "cell_type": "code",
   "execution_count": 248,
   "source": [
    "d"
   ],
   "outputs": [
    {
     "output_type": "execute_result",
     "data": {
      "text/plain": [
       "{'a': 1, 'b': 2}"
      ]
     },
     "metadata": {},
     "execution_count": 248
    }
   ],
   "metadata": {}
  },
  {
   "cell_type": "code",
   "execution_count": 250,
   "source": [
    "d.update({'c':3})"
   ],
   "outputs": [],
   "metadata": {}
  },
  {
   "cell_type": "code",
   "execution_count": 251,
   "source": [
    "d"
   ],
   "outputs": [
    {
     "output_type": "execute_result",
     "data": {
      "text/plain": [
       "{'a': 1, 'b': 2, 'c': 3}"
      ]
     },
     "metadata": {},
     "execution_count": 251
    }
   ],
   "metadata": {}
  },
  {
   "cell_type": "code",
   "execution_count": 254,
   "source": [
    "d.update({'a':0,'c':10})"
   ],
   "outputs": [],
   "metadata": {}
  },
  {
   "cell_type": "code",
   "execution_count": 255,
   "source": [
    "d"
   ],
   "outputs": [
    {
     "output_type": "execute_result",
     "data": {
      "text/plain": [
       "{'a': 0, 'b': 2, 'c': 10}"
      ]
     },
     "metadata": {},
     "execution_count": 255
    }
   ],
   "metadata": {}
  },
  {
   "cell_type": "code",
   "execution_count": null,
   "source": [],
   "outputs": [],
   "metadata": {}
  },
  {
   "cell_type": "code",
   "execution_count": 126,
   "source": [
    "C.state['eval'] = 10\n",
    "C.state['y'] = 10"
   ],
   "outputs": [],
   "metadata": {}
  },
  {
   "cell_type": "code",
   "execution_count": 44,
   "source": [
    "C.state"
   ],
   "outputs": [
    {
     "output_type": "execute_result",
     "data": {
      "text/plain": [
       "{'eval': 10, 'y': 10, 'fitness': 0}"
      ]
     },
     "metadata": {},
     "execution_count": 44
    }
   ],
   "metadata": {}
  },
  {
   "cell_type": "code",
   "execution_count": 56,
   "source": [
    "C.update(global_vars = {'eval':5})"
   ],
   "outputs": [],
   "metadata": {}
  },
  {
   "cell_type": "code",
   "execution_count": 246,
   "source": [
    "C.state"
   ],
   "outputs": [
    {
     "output_type": "execute_result",
     "data": {
      "text/plain": [
       "{'eval': 0, 'y': 0, 'fitness': 0}"
      ]
     },
     "metadata": {},
     "execution_count": 246
    }
   ],
   "metadata": {}
  },
  {
   "cell_type": "code",
   "execution_count": 245,
   "source": [
    "np.random.choice([1,2,3], size=1)"
   ],
   "outputs": [
    {
     "output_type": "execute_result",
     "data": {
      "text/plain": [
       "array([2])"
      ]
     },
     "metadata": {},
     "execution_count": 245
    }
   ],
   "metadata": {}
  }
 ],
 "metadata": {
  "kernelspec": {
   "display_name": "Python 3.7.3 64-bit ('base': conda)",
   "language": "python",
   "name": "python37364bitbasecondacd385dda59854559b44e3f82ede14f15"
  },
  "language_info": {
   "codemirror_mode": {
    "name": "ipython",
    "version": 3
   },
   "file_extension": ".py",
   "mimetype": "text/x-python",
   "name": "python",
   "nbconvert_exporter": "python",
   "pygments_lexer": "ipython3",
   "version": "3.7.3"
  }
 },
 "nbformat": 4,
 "nbformat_minor": 2
}