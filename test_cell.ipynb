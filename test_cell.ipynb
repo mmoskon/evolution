{
 "cells": [
  {
   "cell_type": "code",
   "execution_count": 86,
   "metadata": {},
   "outputs": [],
   "source": [
    "import cell\n",
    "import models\n",
    "import population_generator\n",
    "import parameter_values\n",
    "import numpy as np"
   ]
  },
  {
   "cell_type": "code",
   "execution_count": 87,
   "metadata": {},
   "outputs": [],
   "source": [
    "from itertools import combinations"
   ]
  },
  {
   "cell_type": "code",
   "execution_count": 88,
   "metadata": {},
   "outputs": [
    {
     "data": {
      "text/plain": [
       "<module 'parameter_values' from 'C:\\\\Users\\\\miham\\\\OneDrive - Univerza v Ljubljani\\\\Research\\\\2021_Evolution\\\\code\\\\evolution\\\\parameter_values.py'>"
      ]
     },
     "execution_count": 88,
     "metadata": {},
     "output_type": "execute_result"
    }
   ],
   "source": [
    "import importlib\n",
    "importlib.reload(cell)\n",
    "importlib.reload(models)\n",
    "importlib.reload(population_generator)\n",
    "importlib.reload(parameter_values)"
   ]
  },
  {
   "cell_type": "code",
   "execution_count": 89,
   "metadata": {},
   "outputs": [],
   "source": [
    "from sympy import symbols\n",
    "from sympy.logic.boolalg import to_dnf"
   ]
  },
  {
   "cell_type": "code",
   "execution_count": 90,
   "metadata": {},
   "outputs": [
    {
     "data": {
      "text/plain": [
       "0.0"
      ]
     },
     "execution_count": 90,
     "metadata": {},
     "output_type": "execute_result"
    }
   ],
   "source": [
    "models.generalised_AND(0,0,100,code=\"011\")"
   ]
  },
  {
   "cell_type": "code",
   "execution_count": 169,
   "metadata": {},
   "outputs": [],
   "source": [
    "from parameter_values import *\n",
    "\n",
    "\n",
    "def generalised_AND(code, *ins, params = (alpha, Kd, n)):        \n",
    "    alpha, Kd, n = params\n",
    "\n",
    "    fracs = (np.array(ins)/Kd)**n\n",
    "        \n",
    "    dy_dt = 1\n",
    "    for frac, weight in zip(fracs, code):        \n",
    "        if weight == \"1\":            \n",
    "            dy_dt *= frac\n",
    "    \n",
    "    dy_dt *= alpha\n",
    "\n",
    "    denom = 0\n",
    "    for i in range(len(fracs)+1):\n",
    "        elts = list(combinations(fracs,i))\n",
    "        for elt in elts:\n",
    "            print(np.prod(elt))\n",
    "            denom += np.prod(elt)\n",
    "\n",
    "    dy_dt /= denom\n",
    "\n",
    "    return dy_dt"
   ]
  },
  {
   "cell_type": "code",
   "execution_count": 170,
   "metadata": {},
   "outputs": [],
   "source": [
    "from functools import partial"
   ]
  },
  {
   "cell_type": "code",
   "execution_count": null,
   "metadata": {},
   "outputs": [],
   "source": []
  },
  {
   "cell_type": "code",
   "execution_count": 194,
   "metadata": {},
   "outputs": [
    {
     "data": {
      "text/plain": [
       "1"
      ]
     },
     "execution_count": 194,
     "metadata": {},
     "output_type": "execute_result"
    }
   ],
   "source": [
    "t_end=300\n",
    "dt = 0.1\n",
    "t = 200.\n",
    "N_states = 3\n",
    "state_duration = (t_end + dt) / N_states\n",
    "idx_state = int(t//state_duration)\n",
    "idx_state            "
   ]
  },
  {
   "cell_type": "code",
   "execution_count": 56,
   "metadata": {},
   "outputs": [],
   "source": [
    "in1, in2 = 0,0\n"
   ]
  },
  {
   "cell_type": "code",
   "execution_count": 57,
   "metadata": {},
   "outputs": [
    {
     "data": {
      "text/plain": [
       "0.0"
      ]
     },
     "execution_count": 57,
     "metadata": {},
     "output_type": "execute_result"
    }
   ],
   "source": [
    "models.AND01(in1,in2)+models.AND10(in1,in2)"
   ]
  },
  {
   "cell_type": "code",
   "execution_count": 40,
   "metadata": {},
   "outputs": [],
   "source": [
    "pop = generate_population.generate_cells_minterms(5, 2)"
   ]
  },
  {
   "cell_type": "code",
   "execution_count": 199,
   "metadata": {},
   "outputs": [
    {
     "data": {
      "text/plain": [
       "[1, 2, 3]"
      ]
     },
     "execution_count": 199,
     "metadata": {},
     "output_type": "execute_result"
    }
   ],
   "source": [
    "d = {\"a\":[1,2,3], \"b\":5}\n",
    "list(d.values())[0]"
   ]
  },
  {
   "cell_type": "code",
   "execution_count": 195,
   "metadata": {},
   "outputs": [
    {
     "ename": "NameError",
     "evalue": "name 'pop' is not defined",
     "output_type": "error",
     "traceback": [
      "\u001b[1;31m---------------------------------------------------------------------------\u001b[0m",
      "\u001b[1;31mNameError\u001b[0m                                 Traceback (most recent call last)",
      "\u001b[1;32m<ipython-input-195-74979f033b4a>\u001b[0m in \u001b[0;36m<module>\u001b[1;34m\u001b[0m\n\u001b[1;32m----> 1\u001b[1;33m \u001b[0mpop\u001b[0m\u001b[1;33m[\u001b[0m\u001b[1;36m0\u001b[0m\u001b[1;33m,\u001b[0m\u001b[1;36m0\u001b[0m\u001b[1;33m]\u001b[0m\u001b[1;33m.\u001b[0m\u001b[0mplasmids\u001b[0m\u001b[1;33m\u001b[0m\u001b[1;33m\u001b[0m\u001b[0m\n\u001b[0m",
      "\u001b[1;31mNameError\u001b[0m: name 'pop' is not defined"
     ]
    }
   ],
   "source": [
    "pop[0,0].plasmids"
   ]
  },
  {
   "cell_type": "code",
   "execution_count": 29,
   "metadata": {},
   "outputs": [],
   "source": [
    "plasmids = [([\"in_1\"], \"x11\", \"YES\"),\n",
    "            ([\"in_2\"], \"x11\", \"NOT\"),\n",
    "            ([\"in_1\"], \"x12\", \"NOT\"),\n",
    "            ([\"in1,in_2\"], \"x12\", \"AND\"),\n",
    "            ([\"x11\"], \"y\", \"NOT\"),\n",
    "            ([\"x12\"], \"y\", \"NOT\")]\n",
    "\n",
    "pop = generate_population.generate_cells_function(5, plasmids)"
   ]
  },
  {
   "cell_type": "code",
   "execution_count": 30,
   "metadata": {},
   "outputs": [
    {
     "data": {
      "text/plain": [
       "{'x11=YES(in_1)': {'inputs': ['in_1'],\n",
       "  'output': 'x11',\n",
       "  'f': <function models.YES(x, params=(10, 1, 2))>},\n",
       " 'x11=NOT(in_2)': {'inputs': ['in_2'],\n",
       "  'output': 'x11',\n",
       "  'f': <function models.NOT(x, params=(10, 1, 2))>},\n",
       " 'x12=NOT(in_1)': {'inputs': ['in_1'],\n",
       "  'output': 'x12',\n",
       "  'f': <function models.NOT(x, params=(10, 1, 2))>},\n",
       " 'x12=AND(in1,in_2)': {'inputs': ['in1,in_2'],\n",
       "  'output': 'x12',\n",
       "  'f': <function models.AND(in1, in2, params=(10, 1, 2))>},\n",
       " 'y=NOT(x11)': {'inputs': ['x11'],\n",
       "  'output': 'y',\n",
       "  'f': <function models.NOT(x, params=(10, 1, 2))>},\n",
       " 'y=NOT(x12)': {'inputs': ['x12'],\n",
       "  'output': 'y',\n",
       "  'f': <function models.NOT(x, params=(10, 1, 2))>}}"
      ]
     },
     "execution_count": 30,
     "metadata": {},
     "output_type": "execute_result"
    }
   ],
   "source": [
    "pop[0,0].plasmids"
   ]
  },
  {
   "cell_type": "code",
   "execution_count": 25,
   "metadata": {},
   "outputs": [
    {
     "data": {
      "text/plain": [
       "{'fitness_operon': {'inputs': ['eval', 'y'],\n",
       "  'output': 'fitness',\n",
       "  'f': <function models.EQU(in1, in2, params=(10, 1, 2))>,\n",
       "  'params': (2.5, 1, 2),\n",
       "  'mod_degradation': 0.2},\n",
       " 'apoptosis_operon': {'inputs': ['fitness'],\n",
       "  'output': 'apoptosis',\n",
       "  'f': <function models.NOT(x, params=(10, 1, 2))>,\n",
       "  'params': (1, 1, 4),\n",
       "  'mod_degradation': 0.01}}"
      ]
     },
     "execution_count": 25,
     "metadata": {},
     "output_type": "execute_result"
    }
   ],
   "source": [
    "pop[0,0].basic_functions"
   ]
  },
  {
   "cell_type": "code",
   "execution_count": 26,
   "metadata": {},
   "outputs": [
    {
     "data": {
      "text/plain": [
       "'y=(in_1 & ~in_2) | (in_2 & ~in_1)'"
      ]
     },
     "execution_count": 26,
     "metadata": {},
     "output_type": "execute_result"
    }
   ],
   "source": [
    "pop[0,0].decode_function()"
   ]
  },
  {
   "cell_type": "code",
   "execution_count": 35,
   "metadata": {},
   "outputs": [
    {
     "data": {
      "text/plain": [
       "({'P0_0_YES': {'inputs': ['in_1'],\n",
       "   'output': 'x_1_1',\n",
       "   'f': <function models.YES(x, params=(10, 1, 2))>},\n",
       "  'P0_0_NOT': {'inputs': ['in_1'],\n",
       "   'output': 'x_1_1',\n",
       "   'f': <function models.NOT(x, params=(10, 1, 2))>},\n",
       "  'P0_1_YES': {'inputs': ['in_1'],\n",
       "   'output': 'x_1_2',\n",
       "   'f': <function models.YES(x, params=(10, 1, 2))>},\n",
       "  'P0_1_NOT': {'inputs': ['in_1'],\n",
       "   'output': 'x_1_2',\n",
       "   'f': <function models.NOT(x, params=(10, 1, 2))>},\n",
       "  'P0_2_YES': {'inputs': ['in_2'],\n",
       "   'output': 'x_1_1',\n",
       "   'f': <function models.YES(x, params=(10, 1, 2))>},\n",
       "  'P0_2_NOT': {'inputs': ['in_2'],\n",
       "   'output': 'x_1_1',\n",
       "   'f': <function models.NOT(x, params=(10, 1, 2))>},\n",
       "  'P0_3_YES': {'inputs': ['in_2'],\n",
       "   'output': 'x_1_2',\n",
       "   'f': <function models.YES(x, params=(10, 1, 2))>},\n",
       "  'P0_3_NOT': {'inputs': ['in_2'],\n",
       "   'output': 'x_1_2',\n",
       "   'f': <function models.NOT(x, params=(10, 1, 2))>},\n",
       "  'P0_0_AND': {'inputs': ['in_1', 'in_2'],\n",
       "   'output': 'x_1_1',\n",
       "   'f': <function models.AND(in1, in2, params=(10, 1, 2))>},\n",
       "  'P0_1_AND': {'inputs': ['in_1', 'in_2'],\n",
       "   'output': 'x_1_2',\n",
       "   'f': <function models.AND(in1, in2, params=(10, 1, 2))>},\n",
       "  'P1_0_YES': {'inputs': ['in_1'],\n",
       "   'output': 'x_2_1',\n",
       "   'f': <function models.YES(x, params=(10, 1, 2))>},\n",
       "  'P1_0_NOT': {'inputs': ['in_1'],\n",
       "   'output': 'x_2_1',\n",
       "   'f': <function models.NOT(x, params=(10, 1, 2))>},\n",
       "  'P1_1_YES': {'inputs': ['in_1'],\n",
       "   'output': 'x_2_2',\n",
       "   'f': <function models.YES(x, params=(10, 1, 2))>},\n",
       "  'P1_1_NOT': {'inputs': ['in_1'],\n",
       "   'output': 'x_2_2',\n",
       "   'f': <function models.NOT(x, params=(10, 1, 2))>},\n",
       "  'P1_2_YES': {'inputs': ['in_2'],\n",
       "   'output': 'x_2_1',\n",
       "   'f': <function models.YES(x, params=(10, 1, 2))>},\n",
       "  'P1_2_NOT': {'inputs': ['in_2'],\n",
       "   'output': 'x_2_1',\n",
       "   'f': <function models.NOT(x, params=(10, 1, 2))>},\n",
       "  'P1_3_YES': {'inputs': ['in_2'],\n",
       "   'output': 'x_2_2',\n",
       "   'f': <function models.YES(x, params=(10, 1, 2))>},\n",
       "  'P1_3_NOT': {'inputs': ['in_2'],\n",
       "   'output': 'x_2_2',\n",
       "   'f': <function models.NOT(x, params=(10, 1, 2))>},\n",
       "  'P1_4_YES': {'inputs': ['x_1_1'],\n",
       "   'output': 'x_2_1',\n",
       "   'f': <function models.YES(x, params=(10, 1, 2))>},\n",
       "  'P1_4_NOT': {'inputs': ['x_1_1'],\n",
       "   'output': 'x_2_1',\n",
       "   'f': <function models.NOT(x, params=(10, 1, 2))>},\n",
       "  'P1_5_YES': {'inputs': ['x_1_1'],\n",
       "   'output': 'x_2_2',\n",
       "   'f': <function models.YES(x, params=(10, 1, 2))>},\n",
       "  'P1_5_NOT': {'inputs': ['x_1_1'],\n",
       "   'output': 'x_2_2',\n",
       "   'f': <function models.NOT(x, params=(10, 1, 2))>},\n",
       "  'P1_6_YES': {'inputs': ['x_1_2'],\n",
       "   'output': 'x_2_1',\n",
       "   'f': <function models.YES(x, params=(10, 1, 2))>},\n",
       "  'P1_6_NOT': {'inputs': ['x_1_2'],\n",
       "   'output': 'x_2_1',\n",
       "   'f': <function models.NOT(x, params=(10, 1, 2))>},\n",
       "  'P1_7_YES': {'inputs': ['x_1_2'],\n",
       "   'output': 'x_2_2',\n",
       "   'f': <function models.YES(x, params=(10, 1, 2))>},\n",
       "  'P1_7_NOT': {'inputs': ['x_1_2'],\n",
       "   'output': 'x_2_2',\n",
       "   'f': <function models.NOT(x, params=(10, 1, 2))>},\n",
       "  'P1_0_AND': {'inputs': ['in_1', 'in_2'],\n",
       "   'output': 'x_2_1',\n",
       "   'f': <function models.AND(in1, in2, params=(10, 1, 2))>},\n",
       "  'P1_1_AND': {'inputs': ['in_1', 'in_2'],\n",
       "   'output': 'x_2_2',\n",
       "   'f': <function models.AND(in1, in2, params=(10, 1, 2))>},\n",
       "  'P1_2_AND': {'inputs': ['in_1', 'x_1_1'],\n",
       "   'output': 'x_2_1',\n",
       "   'f': <function models.AND(in1, in2, params=(10, 1, 2))>},\n",
       "  'P1_3_AND': {'inputs': ['in_1', 'x_1_1'],\n",
       "   'output': 'x_2_2',\n",
       "   'f': <function models.AND(in1, in2, params=(10, 1, 2))>},\n",
       "  'P1_4_AND': {'inputs': ['in_1', 'x_1_2'],\n",
       "   'output': 'x_2_1',\n",
       "   'f': <function models.AND(in1, in2, params=(10, 1, 2))>},\n",
       "  'P1_5_AND': {'inputs': ['in_1', 'x_1_2'],\n",
       "   'output': 'x_2_2',\n",
       "   'f': <function models.AND(in1, in2, params=(10, 1, 2))>},\n",
       "  'P1_6_AND': {'inputs': ['in_2', 'x_1_1'],\n",
       "   'output': 'x_2_1',\n",
       "   'f': <function models.AND(in1, in2, params=(10, 1, 2))>},\n",
       "  'P1_7_AND': {'inputs': ['in_2', 'x_1_1'],\n",
       "   'output': 'x_2_2',\n",
       "   'f': <function models.AND(in1, in2, params=(10, 1, 2))>},\n",
       "  'P1_8_AND': {'inputs': ['in_2', 'x_1_2'],\n",
       "   'output': 'x_2_1',\n",
       "   'f': <function models.AND(in1, in2, params=(10, 1, 2))>},\n",
       "  'P1_9_AND': {'inputs': ['in_2', 'x_1_2'],\n",
       "   'output': 'x_2_2',\n",
       "   'f': <function models.AND(in1, in2, params=(10, 1, 2))>},\n",
       "  'P1_10_AND': {'inputs': ['x_1_1', 'x_1_2'],\n",
       "   'output': 'x_2_1',\n",
       "   'f': <function models.AND(in1, in2, params=(10, 1, 2))>},\n",
       "  'P1_11_AND': {'inputs': ['x_1_1', 'x_1_2'],\n",
       "   'output': 'x_2_2',\n",
       "   'f': <function models.AND(in1, in2, params=(10, 1, 2))>},\n",
       "  'P2_0_YES': {'inputs': ['in_1'],\n",
       "   'output': 'y',\n",
       "   'f': <function models.YES(x, params=(10, 1, 2))>},\n",
       "  'P2_0_NOT': {'inputs': ['in_1'],\n",
       "   'output': 'y',\n",
       "   'f': <function models.NOT(x, params=(10, 1, 2))>},\n",
       "  'P2_1_YES': {'inputs': ['in_2'],\n",
       "   'output': 'y',\n",
       "   'f': <function models.YES(x, params=(10, 1, 2))>},\n",
       "  'P2_1_NOT': {'inputs': ['in_2'],\n",
       "   'output': 'y',\n",
       "   'f': <function models.NOT(x, params=(10, 1, 2))>},\n",
       "  'P2_2_YES': {'inputs': ['x_1_1'],\n",
       "   'output': 'y',\n",
       "   'f': <function models.YES(x, params=(10, 1, 2))>},\n",
       "  'P2_2_NOT': {'inputs': ['x_1_1'],\n",
       "   'output': 'y',\n",
       "   'f': <function models.NOT(x, params=(10, 1, 2))>},\n",
       "  'P2_3_YES': {'inputs': ['x_1_2'],\n",
       "   'output': 'y',\n",
       "   'f': <function models.YES(x, params=(10, 1, 2))>},\n",
       "  'P2_3_NOT': {'inputs': ['x_1_2'],\n",
       "   'output': 'y',\n",
       "   'f': <function models.NOT(x, params=(10, 1, 2))>},\n",
       "  'P2_4_YES': {'inputs': ['x_2_1'],\n",
       "   'output': 'y',\n",
       "   'f': <function models.YES(x, params=(10, 1, 2))>},\n",
       "  'P2_4_NOT': {'inputs': ['x_2_1'],\n",
       "   'output': 'y',\n",
       "   'f': <function models.NOT(x, params=(10, 1, 2))>},\n",
       "  'P2_5_YES': {'inputs': ['x_2_2'],\n",
       "   'output': 'y',\n",
       "   'f': <function models.YES(x, params=(10, 1, 2))>},\n",
       "  'P2_5_NOT': {'inputs': ['x_2_2'],\n",
       "   'output': 'y',\n",
       "   'f': <function models.NOT(x, params=(10, 1, 2))>},\n",
       "  'P2_0_AND': {'inputs': ['in_1', 'in_2'],\n",
       "   'output': 'y',\n",
       "   'f': <function models.AND(in1, in2, params=(10, 1, 2))>},\n",
       "  'P2_1_AND': {'inputs': ['in_1', 'x_1_1'],\n",
       "   'output': 'y',\n",
       "   'f': <function models.AND(in1, in2, params=(10, 1, 2))>},\n",
       "  'P2_2_AND': {'inputs': ['in_1', 'x_1_2'],\n",
       "   'output': 'y',\n",
       "   'f': <function models.AND(in1, in2, params=(10, 1, 2))>},\n",
       "  'P2_3_AND': {'inputs': ['in_1', 'x_2_1'],\n",
       "   'output': 'y',\n",
       "   'f': <function models.AND(in1, in2, params=(10, 1, 2))>},\n",
       "  'P2_4_AND': {'inputs': ['in_1', 'x_2_2'],\n",
       "   'output': 'y',\n",
       "   'f': <function models.AND(in1, in2, params=(10, 1, 2))>},\n",
       "  'P2_5_AND': {'inputs': ['in_2', 'x_1_1'],\n",
       "   'output': 'y',\n",
       "   'f': <function models.AND(in1, in2, params=(10, 1, 2))>},\n",
       "  'P2_6_AND': {'inputs': ['in_2', 'x_1_2'],\n",
       "   'output': 'y',\n",
       "   'f': <function models.AND(in1, in2, params=(10, 1, 2))>},\n",
       "  'P2_7_AND': {'inputs': ['in_2', 'x_2_1'],\n",
       "   'output': 'y',\n",
       "   'f': <function models.AND(in1, in2, params=(10, 1, 2))>},\n",
       "  'P2_8_AND': {'inputs': ['in_2', 'x_2_2'],\n",
       "   'output': 'y',\n",
       "   'f': <function models.AND(in1, in2, params=(10, 1, 2))>},\n",
       "  'P2_9_AND': {'inputs': ['x_1_1', 'x_1_2'],\n",
       "   'output': 'y',\n",
       "   'f': <function models.AND(in1, in2, params=(10, 1, 2))>},\n",
       "  'P2_10_AND': {'inputs': ['x_1_1', 'x_2_1'],\n",
       "   'output': 'y',\n",
       "   'f': <function models.AND(in1, in2, params=(10, 1, 2))>},\n",
       "  'P2_11_AND': {'inputs': ['x_1_1', 'x_2_2'],\n",
       "   'output': 'y',\n",
       "   'f': <function models.AND(in1, in2, params=(10, 1, 2))>},\n",
       "  'P2_12_AND': {'inputs': ['x_1_2', 'x_2_1'],\n",
       "   'output': 'y',\n",
       "   'f': <function models.AND(in1, in2, params=(10, 1, 2))>},\n",
       "  'P2_13_AND': {'inputs': ['x_1_2', 'x_2_2'],\n",
       "   'output': 'y',\n",
       "   'f': <function models.AND(in1, in2, params=(10, 1, 2))>},\n",
       "  'P2_14_AND': {'inputs': ['x_2_1', 'x_2_2'],\n",
       "   'output': 'y',\n",
       "   'f': <function models.AND(in1, in2, params=(10, 1, 2))>}},\n",
       " {'layer0': ['P0_0_YES',\n",
       "   'P0_0_NOT',\n",
       "   'P0_1_YES',\n",
       "   'P0_1_NOT',\n",
       "   'P0_2_YES',\n",
       "   'P0_2_NOT',\n",
       "   'P0_3_YES',\n",
       "   'P0_3_NOT',\n",
       "   'P0_0_AND',\n",
       "   'P0_1_AND'],\n",
       "  'layer1': ['P1_0_YES',\n",
       "   'P1_0_NOT',\n",
       "   'P1_1_YES',\n",
       "   'P1_1_NOT',\n",
       "   'P1_2_YES',\n",
       "   'P1_2_NOT',\n",
       "   'P1_3_YES',\n",
       "   'P1_3_NOT',\n",
       "   'P1_4_YES',\n",
       "   'P1_4_NOT',\n",
       "   'P1_5_YES',\n",
       "   'P1_5_NOT',\n",
       "   'P1_6_YES',\n",
       "   'P1_6_NOT',\n",
       "   'P1_7_YES',\n",
       "   'P1_7_NOT',\n",
       "   'P1_0_AND',\n",
       "   'P1_1_AND',\n",
       "   'P1_2_AND',\n",
       "   'P1_3_AND',\n",
       "   'P1_4_AND',\n",
       "   'P1_5_AND',\n",
       "   'P1_6_AND',\n",
       "   'P1_7_AND',\n",
       "   'P1_8_AND',\n",
       "   'P1_9_AND',\n",
       "   'P1_10_AND',\n",
       "   'P1_11_AND'],\n",
       "  'layer_out': ['P2_0_YES',\n",
       "   'P2_0_NOT',\n",
       "   'P2_1_YES',\n",
       "   'P2_1_NOT',\n",
       "   'P2_2_YES',\n",
       "   'P2_2_NOT',\n",
       "   'P2_3_YES',\n",
       "   'P2_3_NOT',\n",
       "   'P2_4_YES',\n",
       "   'P2_4_NOT',\n",
       "   'P2_5_YES',\n",
       "   'P2_5_NOT',\n",
       "   'P2_0_AND',\n",
       "   'P2_1_AND',\n",
       "   'P2_2_AND',\n",
       "   'P2_3_AND',\n",
       "   'P2_4_AND',\n",
       "   'P2_5_AND',\n",
       "   'P2_6_AND',\n",
       "   'P2_7_AND',\n",
       "   'P2_8_AND',\n",
       "   'P2_9_AND',\n",
       "   'P2_10_AND',\n",
       "   'P2_11_AND',\n",
       "   'P2_12_AND',\n",
       "   'P2_13_AND',\n",
       "   'P2_14_AND']})"
      ]
     },
     "execution_count": 35,
     "metadata": {},
     "output_type": "execute_result"
    }
   ],
   "source": [
    "generate_population.generate_program_plasmids(N_inputs=2, N_layers=2, N_terms=2,full_connectivity=True)"
   ]
  },
  {
   "cell_type": "code",
   "execution_count": null,
   "metadata": {},
   "outputs": [],
   "source": []
  },
  {
   "cell_type": "code",
   "execution_count": 27,
   "metadata": {},
   "outputs": [],
   "source": [
    "pop = generate_population.generate_cells(N=4, N_inputs=2, N_layers=2, N_terms=2, layered=False)"
   ]
  },
  {
   "cell_type": "code",
   "execution_count": null,
   "metadata": {},
   "outputs": [],
   "source": []
  },
  {
   "cell_type": "code",
   "execution_count": 31,
   "metadata": {},
   "outputs": [
    {
     "name": "stdout",
     "output_type": "stream",
     "text": [
      "[{'inputs': ['x_1_1', 'x_1_2'], 'output': 'x_2_2', 'f': <function AND at 0x000001F2DEC81E18>}, {'inputs': ['x_2_2'], 'output': 'y', 'f': <function NOT at 0x000001F2DEC81D90>}, {'inputs': ['x_1_1'], 'output': 'x_2_2', 'f': <function YES at 0x000001F2DEC81510>}, {'inputs': ['x_1_2'], 'output': 'x_2_2', 'f': <function YES at 0x000001F2DEC81510>}, {'inputs': ['in_1'], 'output': 'x_2_2', 'f': <function YES at 0x000001F2DEC81510>}]\n",
      "\n",
      "[{'inputs': ['in_1', 'in_2'], 'output': 'x_1_1', 'f': <function AND at 0x000001F2DEC81E18>}, {'inputs': ['x_1_1'], 'output': 'x_2_1', 'f': <function NOT at 0x000001F2DEC81D90>}, {'inputs': ['x_1_1'], 'output': 'x_2_2', 'f': <function NOT at 0x000001F2DEC81D90>}, {'inputs': ['in_2'], 'output': 'x_1_2', 'f': <function YES at 0x000001F2DEC81510>}, {'inputs': ['in_1'], 'output': 'x_1_1', 'f': <function NOT at 0x000001F2DEC81D90>}]\n",
      "\n",
      "[{'inputs': ['in_1'], 'output': 'x_1_2', 'f': <function YES at 0x000001F2DEC81510>}, {'inputs': ['in_1'], 'output': 'x_2_1', 'f': <function NOT at 0x000001F2DEC81D90>}, {'inputs': ['in_2'], 'output': 'x_1_1', 'f': <function YES at 0x000001F2DEC81510>}, {'inputs': ['in_1', 'in_2'], 'output': 'x_1_1', 'f': <function AND at 0x000001F2DEC81E18>}, {'inputs': ['in_1'], 'output': 'x_1_1', 'f': <function NOT at 0x000001F2DEC81D90>}]\n",
      "\n",
      "[{'inputs': ['in_1'], 'output': 'x_1_1', 'f': <function YES at 0x000001F2DEC81510>}, {'inputs': ['x_1_2'], 'output': 'x_2_2', 'f': <function YES at 0x000001F2DEC81510>}, {'inputs': ['x_1_2'], 'output': 'x_2_2', 'f': <function NOT at 0x000001F2DEC81D90>}, {'inputs': ['x_2_2'], 'output': 'y', 'f': <function NOT at 0x000001F2DEC81D90>}, {'inputs': ['in_1', 'in_2'], 'output': 'x_2_2', 'f': <function AND at 0x000001F2DEC81E18>}]\n",
      "\n",
      "[{'inputs': ['x_1_2'], 'output': 'x_2_1', 'f': <function NOT at 0x000001F2DEC81D90>}, {'inputs': ['in_2'], 'output': 'x_2_2', 'f': <function YES at 0x000001F2DEC81510>}, {'inputs': ['in_1', 'x_1_1'], 'output': 'x_2_1', 'f': <function AND at 0x000001F2DEC81E18>}, {'inputs': ['in_1'], 'output': 'x_2_1', 'f': <function NOT at 0x000001F2DEC81D90>}, {'inputs': ['in_2'], 'output': 'x_1_2', 'f': <function YES at 0x000001F2DEC81510>}]\n",
      "\n",
      "[{'inputs': ['x_1_2'], 'output': 'x_2_2', 'f': <function NOT at 0x000001F2DEC81D90>}, {'inputs': ['in_1', 'in_2'], 'output': 'x_2_1', 'f': <function AND at 0x000001F2DEC81E18>}, {'inputs': ['in_1'], 'output': 'x_1_2', 'f': <function YES at 0x000001F2DEC81510>}, {'inputs': ['in_1', 'in_2'], 'output': 'x_1_2', 'f': <function AND at 0x000001F2DEC81E18>}, {'inputs': ['in_2'], 'output': 'x_1_2', 'f': <function NOT at 0x000001F2DEC81D90>}]\n",
      "\n",
      "[{'inputs': ['in_1', 'x_1_1'], 'output': 'x_2_2', 'f': <function AND at 0x000001F2DEC81E18>}, {'inputs': ['in_2'], 'output': 'x_2_1', 'f': <function NOT at 0x000001F2DEC81D90>}, {'inputs': ['in_2', 'x_1_1'], 'output': 'x_2_1', 'f': <function AND at 0x000001F2DEC81E18>}, {'inputs': ['x_1_2'], 'output': 'x_2_2', 'f': <function YES at 0x000001F2DEC81510>}, {'inputs': ['in_1', 'in_2'], 'output': 'x_1_2', 'f': <function AND at 0x000001F2DEC81E18>}]\n",
      "\n",
      "[{'inputs': ['x_1_1'], 'output': 'x_2_1', 'f': <function YES at 0x000001F2DEC81510>}, {'inputs': ['x_2_1'], 'output': 'y', 'f': <function NOT at 0x000001F2DEC81D90>}, {'inputs': ['in_2', 'x_1_1'], 'output': 'x_2_1', 'f': <function AND at 0x000001F2DEC81E18>}, {'inputs': ['x_1_1'], 'output': 'x_2_1', 'f': <function NOT at 0x000001F2DEC81D90>}, {'inputs': ['x_1_1', 'x_1_2'], 'output': 'x_2_1', 'f': <function AND at 0x000001F2DEC81E18>}]\n",
      "\n",
      "[{'inputs': ['x_1_1'], 'output': 'x_2_2', 'f': <function YES at 0x000001F2DEC81510>}, {'inputs': ['in_1'], 'output': 'x_2_1', 'f': <function NOT at 0x000001F2DEC81D90>}, {'inputs': ['in_2'], 'output': 'x_2_2', 'f': <function NOT at 0x000001F2DEC81D90>}, {'inputs': ['in_2', 'x_1_1'], 'output': 'x_2_2', 'f': <function AND at 0x000001F2DEC81E18>}, {'inputs': ['in_2'], 'output': 'x_2_1', 'f': <function NOT at 0x000001F2DEC81D90>}]\n",
      "\n",
      "[{'inputs': ['in_1'], 'output': 'x_2_1', 'f': <function YES at 0x000001F2DEC81510>}, {'inputs': ['x_2_2'], 'output': 'y', 'f': <function YES at 0x000001F2DEC81510>}, {'inputs': ['in_1'], 'output': 'x_2_2', 'f': <function NOT at 0x000001F2DEC81D90>}, {'inputs': ['x_1_2'], 'output': 'x_2_2', 'f': <function NOT at 0x000001F2DEC81D90>}, {'inputs': ['in_1', 'x_1_2'], 'output': 'x_2_1', 'f': <function AND at 0x000001F2DEC81E18>}]\n",
      "\n",
      "[{'inputs': ['in_2'], 'output': 'x_2_1', 'f': <function NOT at 0x000001F2DEC81D90>}, {'inputs': ['in_2', 'x_1_1'], 'output': 'x_2_2', 'f': <function AND at 0x000001F2DEC81E18>}, {'inputs': ['in_2'], 'output': 'x_1_2', 'f': <function YES at 0x000001F2DEC81510>}, {'inputs': ['x_1_1'], 'output': 'x_2_2', 'f': <function NOT at 0x000001F2DEC81D90>}, {'inputs': ['in_1', 'in_2'], 'output': 'x_1_1', 'f': <function AND at 0x000001F2DEC81E18>}]\n",
      "\n",
      "[{'inputs': ['x_1_1'], 'output': 'x_2_1', 'f': <function YES at 0x000001F2DEC81510>}, {'inputs': ['in_2'], 'output': 'x_1_2', 'f': <function YES at 0x000001F2DEC81510>}, {'inputs': ['in_1', 'in_2'], 'output': 'x_1_1', 'f': <function AND at 0x000001F2DEC81E18>}, {'inputs': ['in_1'], 'output': 'x_1_2', 'f': <function YES at 0x000001F2DEC81510>}, {'inputs': ['x_1_1'], 'output': 'x_2_2', 'f': <function YES at 0x000001F2DEC81510>}]\n",
      "\n",
      "[{'inputs': ['in_1'], 'output': 'x_2_1', 'f': <function YES at 0x000001F2DEC81510>}, {'inputs': ['in_2', 'x_1_1'], 'output': 'x_2_2', 'f': <function AND at 0x000001F2DEC81E18>}, {'inputs': ['x_1_2'], 'output': 'x_2_1', 'f': <function YES at 0x000001F2DEC81510>}, {'inputs': ['in_2', 'x_1_2'], 'output': 'x_2_2', 'f': <function AND at 0x000001F2DEC81E18>}, {'inputs': ['in_2'], 'output': 'x_1_1', 'f': <function YES at 0x000001F2DEC81510>}]\n",
      "\n",
      "[{'inputs': ['x_1_1'], 'output': 'x_2_2', 'f': <function YES at 0x000001F2DEC81510>}, {'inputs': ['in_1', 'x_1_1'], 'output': 'x_2_1', 'f': <function AND at 0x000001F2DEC81E18>}, {'inputs': ['x_1_1', 'x_1_2'], 'output': 'x_2_2', 'f': <function AND at 0x000001F2DEC81E18>}, {'inputs': ['x_1_2'], 'output': 'x_2_2', 'f': <function NOT at 0x000001F2DEC81D90>}, {'inputs': ['in_2'], 'output': 'x_1_2', 'f': <function NOT at 0x000001F2DEC81D90>}]\n",
      "\n",
      "[{'inputs': ['in_1', 'in_2'], 'output': 'x_1_1', 'f': <function AND at 0x000001F2DEC81E18>}, {'inputs': ['in_1'], 'output': 'x_2_2', 'f': <function NOT at 0x000001F2DEC81D90>}, {'inputs': ['in_1', 'x_1_2'], 'output': 'x_2_1', 'f': <function AND at 0x000001F2DEC81E18>}, {'inputs': ['in_1'], 'output': 'x_1_2', 'f': <function NOT at 0x000001F2DEC81D90>}, {'inputs': ['in_2', 'x_1_1'], 'output': 'x_2_2', 'f': <function AND at 0x000001F2DEC81E18>}]\n",
      "\n",
      "[{'inputs': ['x_1_1'], 'output': 'x_2_2', 'f': <function NOT at 0x000001F2DEC81D90>}, {'inputs': ['x_1_1', 'x_1_2'], 'output': 'x_2_2', 'f': <function AND at 0x000001F2DEC81E18>}, {'inputs': ['in_1', 'x_1_1'], 'output': 'x_2_1', 'f': <function AND at 0x000001F2DEC81E18>}, {'inputs': ['in_1', 'in_2'], 'output': 'x_1_2', 'f': <function AND at 0x000001F2DEC81E18>}, {'inputs': ['in_1'], 'output': 'x_1_2', 'f': <function NOT at 0x000001F2DEC81D90>}]\n",
      "\n"
     ]
    }
   ],
   "source": [
    "for i in range(4):\n",
    "    for j in range(4):\n",
    "        print(list(pop[i,j].plasmids.values()))\n",
    "        print()"
   ]
  },
  {
   "cell_type": "code",
   "execution_count": 163,
   "metadata": {},
   "outputs": [
    {
     "name": "stdout",
     "output_type": "stream",
     "text": [
      "dict_keys(['P1_0_NOT', 'P0_1_YES', 'P0_0_NOT', 'P1_0_YES'])\n",
      "dict_keys(['P0_1_NOT'])\n",
      "dict_keys(['P0_0_NOT', 'P1_0_YES'])\n"
     ]
    },
    {
     "data": {
      "text/plain": [
       "<cell.cell at 0x1f97efff588>"
      ]
     },
     "execution_count": 163,
     "metadata": {},
     "output_type": "execute_result"
    }
   ],
   "source": [
    "generate_population.cross_random_neighbours(pop, 1,1)"
   ]
  },
  {
   "cell_type": "code",
   "execution_count": 81,
   "metadata": {},
   "outputs": [],
   "source": [
    "c = generate_population.find_best_neighbour(pop,0,0, mode=\"fitness\")"
   ]
  },
  {
   "cell_type": "code",
   "execution_count": 5,
   "metadata": {},
   "outputs": [
    {
     "data": {
      "text/plain": [
       "0"
      ]
     },
     "execution_count": 5,
     "metadata": {},
     "output_type": "execute_result"
    }
   ],
   "source": [
    "c.state['fitness']"
   ]
  },
  {
   "cell_type": "code",
   "execution_count": 6,
   "metadata": {},
   "outputs": [],
   "source": [
    "from sympy.abc import x, B, D"
   ]
  },
  {
   "cell_type": "code",
   "execution_count": 13,
   "metadata": {},
   "outputs": [],
   "source": [
    "from sympy import symbols\n",
    "from sympy.logic.boolalg import to_cnf\n",
    "\n",
    "inputs = ['in_1', 'in_2']\n"
   ]
  },
  {
   "cell_type": "code",
   "execution_count": null,
   "metadata": {},
   "outputs": [],
   "source": [
    "locals()['in_1'], locals()['in_2'] = symbols(\",\".join(inputs))"
   ]
  },
  {
   "cell_type": "code",
   "execution_count": 14,
   "metadata": {},
   "outputs": [
    {
     "data": {
      "text/plain": [
       "tuple"
      ]
     },
     "execution_count": 14,
     "metadata": {},
     "output_type": "execute_result"
    }
   ],
   "source": [
    "type(symbols(\",\".join(inputs)))"
   ]
  },
  {
   "cell_type": "code",
   "execution_count": null,
   "metadata": {},
   "outputs": [],
   "source": []
  },
  {
   "cell_type": "code",
   "execution_count": 8,
   "metadata": {},
   "outputs": [],
   "source": [
    "y=~(in_1 | ~(in_2) | in_2) | in_1 | ~(in_2) | in_2"
   ]
  },
  {
   "cell_type": "code",
   "execution_count": 9,
   "metadata": {},
   "outputs": [],
   "source": [
    "x = to_cnf(y, True)"
   ]
  },
  {
   "cell_type": "code",
   "execution_count": 91,
   "metadata": {},
   "outputs": [
    {
     "data": {
      "text/plain": [
       "'True'"
      ]
     },
     "execution_count": 91,
     "metadata": {},
     "output_type": "execute_result"
    }
   ],
   "source": [
    "str(x)"
   ]
  },
  {
   "cell_type": "code",
   "execution_count": 21,
   "metadata": {},
   "outputs": [
    {
     "name": "stdout",
     "output_type": "stream",
     "text": [
      "y=NOT(NOT(in_1))\n",
      "{'P0_0_NOT': {'inputs': ['in_1'], 'output': 'x_1_1', 'f': <function NOT at 0x000001EFEDA34488>}, 'P1_0_NOT': {'inputs': ['x_1_1'], 'output': 'y', 'f': <function NOT at 0x000001EFEDA34488>}}\n",
      "y=NOT(NOT(in_1) OR NOT(in_2))\n",
      "{'P0_0_NOT': {'inputs': ['in_1'], 'output': 'x_1_1', 'f': <function NOT at 0x000001EFEDA34488>}, 'P1_0_NOT': {'inputs': ['x_1_1'], 'output': 'y', 'f': <function NOT at 0x000001EFEDA34488>}, 'P0_1_NOT': {'inputs': ['in_2'], 'output': 'x_1_1', 'f': <function NOT at 0x000001EFEDA34488>}}\n"
     ]
    }
   ],
   "source": [
    "generate_population.give_plasmid(pop,0,0,p)"
   ]
  },
  {
   "cell_type": "code",
   "execution_count": 94,
   "metadata": {},
   "outputs": [
    {
     "data": {
      "text/plain": [
       "{'P0_0_YES': {'inputs': ['in_1'],\n",
       "  'output': 'x_1_1',\n",
       "  'f': <function models.YES(x, params=(10, 1, 2))>},\n",
       " 'P1_0_NOT': {'inputs': ['x_1_1'],\n",
       "  'output': 'y',\n",
       "  'f': <function models.NOT(x, params=(10, 1, 2))>},\n",
       " 'P1_0_YES': {'inputs': ['x_1_1'],\n",
       "  'output': 'y',\n",
       "  'f': <function models.YES(x, params=(10, 1, 2))>}}"
      ]
     },
     "execution_count": 94,
     "metadata": {},
     "output_type": "execute_result"
    }
   ],
   "source": [
    "pop[1,1].plasmids"
   ]
  },
  {
   "cell_type": "code",
   "execution_count": 227,
   "metadata": {},
   "outputs": [],
   "source": [
    "pop[1,1].update(global_vars = {\"in1\": 10, \"in2\": 10, \"eval\": 10})"
   ]
  },
  {
   "cell_type": "code",
   "execution_count": 233,
   "metadata": {},
   "outputs": [
    {
     "data": {
      "text/plain": [
       "'y=NOT(NOT(in_1) OR in_1)'"
      ]
     },
     "execution_count": 233,
     "metadata": {},
     "output_type": "execute_result"
    }
   ],
   "source": [
    "pop[0,0].decode_function()"
   ]
  },
  {
   "cell_type": "code",
   "execution_count": 219,
   "metadata": {},
   "outputs": [],
   "source": [
    "C = cell.cell()\n",
    "C.add_basic_function(\"fitness_operon\", [\"eval\", \"y\"], \"fitness\", models.AND)"
   ]
  },
  {
   "cell_type": "code",
   "execution_count": 264,
   "metadata": {},
   "outputs": [
    {
     "data": {
      "text/plain": [
       "1"
      ]
     },
     "execution_count": 264,
     "metadata": {},
     "output_type": "execute_result"
    }
   ],
   "source": [
    "pop.shape[0]"
   ]
  },
  {
   "cell_type": "code",
   "execution_count": 236,
   "metadata": {},
   "outputs": [
    {
     "data": {
      "text/plain": [
       "0.0"
      ]
     },
     "execution_count": 236,
     "metadata": {},
     "output_type": "execute_result"
    }
   ],
   "source": [
    "100.0 % 10"
   ]
  },
  {
   "cell_type": "code",
   "execution_count": 244,
   "metadata": {},
   "outputs": [
    {
     "data": {
      "text/plain": [
       "True"
      ]
     },
     "execution_count": 244,
     "metadata": {},
     "output_type": "execute_result"
    }
   ],
   "source": [
    "(1.0 % 1) == 0"
   ]
  },
  {
   "cell_type": "code",
   "execution_count": 247,
   "metadata": {},
   "outputs": [],
   "source": [
    "d = {'a':1, 'b':2}"
   ]
  },
  {
   "cell_type": "code",
   "execution_count": 248,
   "metadata": {},
   "outputs": [
    {
     "data": {
      "text/plain": [
       "{'a': 1, 'b': 2}"
      ]
     },
     "execution_count": 248,
     "metadata": {},
     "output_type": "execute_result"
    }
   ],
   "source": [
    "d"
   ]
  },
  {
   "cell_type": "code",
   "execution_count": 250,
   "metadata": {},
   "outputs": [],
   "source": [
    "d.update({'c':3})"
   ]
  },
  {
   "cell_type": "code",
   "execution_count": 251,
   "metadata": {},
   "outputs": [
    {
     "data": {
      "text/plain": [
       "{'a': 1, 'b': 2, 'c': 3}"
      ]
     },
     "execution_count": 251,
     "metadata": {},
     "output_type": "execute_result"
    }
   ],
   "source": [
    "d"
   ]
  },
  {
   "cell_type": "code",
   "execution_count": 254,
   "metadata": {},
   "outputs": [],
   "source": [
    "d.update({'a':0,'c':10})"
   ]
  },
  {
   "cell_type": "code",
   "execution_count": 255,
   "metadata": {},
   "outputs": [
    {
     "data": {
      "text/plain": [
       "{'a': 0, 'b': 2, 'c': 10}"
      ]
     },
     "execution_count": 255,
     "metadata": {},
     "output_type": "execute_result"
    }
   ],
   "source": [
    "d"
   ]
  },
  {
   "cell_type": "code",
   "execution_count": null,
   "metadata": {},
   "outputs": [],
   "source": []
  },
  {
   "cell_type": "code",
   "execution_count": 126,
   "metadata": {},
   "outputs": [],
   "source": [
    "C.state['eval'] = 10\n",
    "C.state['y'] = 10"
   ]
  },
  {
   "cell_type": "code",
   "execution_count": 44,
   "metadata": {},
   "outputs": [
    {
     "data": {
      "text/plain": [
       "{'eval': 10, 'y': 10, 'fitness': 0}"
      ]
     },
     "execution_count": 44,
     "metadata": {},
     "output_type": "execute_result"
    }
   ],
   "source": [
    "C.state"
   ]
  },
  {
   "cell_type": "code",
   "execution_count": 56,
   "metadata": {},
   "outputs": [],
   "source": [
    "C.update(global_vars = {'eval':5})"
   ]
  },
  {
   "cell_type": "code",
   "execution_count": 246,
   "metadata": {},
   "outputs": [
    {
     "data": {
      "text/plain": [
       "{'eval': 0, 'y': 0, 'fitness': 0}"
      ]
     },
     "execution_count": 246,
     "metadata": {},
     "output_type": "execute_result"
    }
   ],
   "source": [
    "C.state"
   ]
  },
  {
   "cell_type": "code",
   "execution_count": 245,
   "metadata": {},
   "outputs": [
    {
     "data": {
      "text/plain": [
       "array([2])"
      ]
     },
     "execution_count": 245,
     "metadata": {},
     "output_type": "execute_result"
    }
   ],
   "source": [
    "np.random.choice([1,2,3], size=1)"
   ]
  }
 ],
 "metadata": {
  "kernelspec": {
   "display_name": "Python 3.7.3 64-bit ('base': conda)",
   "language": "python",
   "name": "python37364bitbasecondacd385dda59854559b44e3f82ede14f15"
  },
  "language_info": {
   "codemirror_mode": {
    "name": "ipython",
    "version": 3
   },
   "file_extension": ".py",
   "mimetype": "text/x-python",
   "name": "python",
   "nbconvert_exporter": "python",
   "pygments_lexer": "ipython3",
   "version": "3.7.3"
  }
 },
 "nbformat": 4,
 "nbformat_minor": 2
}
