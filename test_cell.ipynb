{
 "cells": [
  {
   "cell_type": "code",
   "execution_count": 209,
   "metadata": {},
   "outputs": [],
   "source": [
    "import cell\n",
    "import models\n",
    "import generate_population\n",
    "import params\n",
    "import numpy as np"
   ]
  },
  {
   "cell_type": "code",
   "execution_count": 210,
   "metadata": {},
   "outputs": [
    {
     "data": {
      "text/plain": [
       "<module 'params' from 'C:\\\\Users\\\\miham\\\\OneDrive - Univerza v Ljubljani\\\\Research\\\\2021_Evolution\\\\code\\\\evolution\\\\params.py'>"
      ]
     },
     "execution_count": 210,
     "metadata": {},
     "output_type": "execute_result"
    }
   ],
   "source": [
    "import importlib\n",
    "importlib.reload(cell)\n",
    "importlib.reload(models)\n",
    "importlib.reload(generate_population)\n",
    "importlib.reload(params)"
   ]
  },
  {
   "cell_type": "code",
   "execution_count": 211,
   "metadata": {},
   "outputs": [
    {
     "ename": "TypeError",
     "evalue": "can only concatenate str (not \"list\") to str",
     "output_type": "error",
     "traceback": [
      "\u001b[1;31m---------------------------------------------------------------------------\u001b[0m",
      "\u001b[1;31mTypeError\u001b[0m                                 Traceback (most recent call last)",
      "\u001b[1;32m<ipython-input-211-bf1536d2ebda>\u001b[0m in \u001b[0;36m<module>\u001b[1;34m\u001b[0m\n\u001b[0;32m      6\u001b[0m             (\"y\", \"x12\", \"NOT\")]\n\u001b[0;32m      7\u001b[0m \u001b[1;33m\u001b[0m\u001b[0m\n\u001b[1;32m----> 8\u001b[1;33m \u001b[0mpop\u001b[0m \u001b[1;33m=\u001b[0m \u001b[0mgenerate_population\u001b[0m\u001b[1;33m.\u001b[0m\u001b[0mgenerate_cells_function\u001b[0m\u001b[1;33m(\u001b[0m\u001b[1;36m5\u001b[0m\u001b[1;33m,\u001b[0m \u001b[0mplasmids\u001b[0m\u001b[1;33m)\u001b[0m\u001b[1;33m\u001b[0m\u001b[1;33m\u001b[0m\u001b[0m\n\u001b[0m",
      "\u001b[1;32m~\\OneDrive - Univerza v Ljubljani\\Research\\2021_Evolution\\code\\evolution\\generate_population.py\u001b[0m in \u001b[0;36mgenerate_cells_function\u001b[1;34m(N, functions)\u001b[0m\n\u001b[0;32m    230\u001b[0m             \u001b[1;31m# add all plasmids to a cell\u001b[0m\u001b[1;33m\u001b[0m\u001b[1;33m\u001b[0m\u001b[1;33m\u001b[0m\u001b[0m\n\u001b[0;32m    231\u001b[0m             \u001b[1;32mfor\u001b[0m \u001b[0mplasmid_id\u001b[0m\u001b[1;33m,\u001b[0m \u001b[0mplasmid\u001b[0m \u001b[1;32min\u001b[0m \u001b[0mplasmids\u001b[0m\u001b[1;33m.\u001b[0m\u001b[0mitems\u001b[0m\u001b[1;33m(\u001b[0m\u001b[1;33m)\u001b[0m\u001b[1;33m:\u001b[0m\u001b[1;33m\u001b[0m\u001b[1;33m\u001b[0m\u001b[0m\n\u001b[1;32m--> 232\u001b[1;33m                 \u001b[0mC\u001b[0m\u001b[1;33m.\u001b[0m\u001b[0madd_plasmid\u001b[0m\u001b[1;33m(\u001b[0m\u001b[0mplasmid_id\u001b[0m\u001b[1;33m,\u001b[0m \u001b[0mplasmid\u001b[0m\u001b[1;33m[\u001b[0m\u001b[1;34m'inputs'\u001b[0m\u001b[1;33m]\u001b[0m\u001b[1;33m,\u001b[0m \u001b[0mplasmid\u001b[0m\u001b[1;33m[\u001b[0m\u001b[1;34m'output'\u001b[0m\u001b[1;33m]\u001b[0m\u001b[1;33m,\u001b[0m \u001b[0mplasmid\u001b[0m\u001b[1;33m[\u001b[0m\u001b[1;34m'f'\u001b[0m\u001b[1;33m]\u001b[0m\u001b[1;33m)\u001b[0m\u001b[1;33m\u001b[0m\u001b[1;33m\u001b[0m\u001b[0m\n\u001b[0m\u001b[0;32m    233\u001b[0m \u001b[1;33m\u001b[0m\u001b[0m\n\u001b[0;32m    234\u001b[0m             \u001b[0mpopulation\u001b[0m\u001b[1;33m[\u001b[0m\u001b[0mi\u001b[0m\u001b[1;33m,\u001b[0m\u001b[0mj\u001b[0m\u001b[1;33m]\u001b[0m \u001b[1;33m=\u001b[0m \u001b[0mC\u001b[0m\u001b[1;33m\u001b[0m\u001b[1;33m\u001b[0m\u001b[0m\n",
      "\u001b[1;32m~\\OneDrive - Univerza v Ljubljani\\Research\\2021_Evolution\\code\\evolution\\cell.py\u001b[0m in \u001b[0;36madd_plasmid\u001b[1;34m(self, label, inputs, output, function, params, mod_degradation)\u001b[0m\n\u001b[0;32m     65\u001b[0m \u001b[1;33m\u001b[0m\u001b[0m\n\u001b[0;32m     66\u001b[0m     \u001b[1;32mdef\u001b[0m \u001b[0madd_plasmid\u001b[0m\u001b[1;33m(\u001b[0m\u001b[0mself\u001b[0m\u001b[1;33m,\u001b[0m \u001b[0mlabel\u001b[0m\u001b[1;33m,\u001b[0m \u001b[0minputs\u001b[0m\u001b[1;33m,\u001b[0m \u001b[0moutput\u001b[0m\u001b[1;33m,\u001b[0m \u001b[0mfunction\u001b[0m\u001b[1;33m,\u001b[0m \u001b[0mparams\u001b[0m\u001b[1;33m=\u001b[0m\u001b[1;32mNone\u001b[0m\u001b[1;33m,\u001b[0m \u001b[0mmod_degradation\u001b[0m\u001b[1;33m=\u001b[0m\u001b[1;32mNone\u001b[0m\u001b[1;33m)\u001b[0m\u001b[1;33m:\u001b[0m\u001b[1;33m\u001b[0m\u001b[1;33m\u001b[0m\u001b[0m\n\u001b[1;32m---> 67\u001b[1;33m         \u001b[0mself\u001b[0m\u001b[1;33m.\u001b[0m\u001b[0madd_operon\u001b[0m\u001b[1;33m(\u001b[0m\u001b[0mlabel\u001b[0m\u001b[1;33m,\u001b[0m \u001b[0minputs\u001b[0m\u001b[1;33m,\u001b[0m \u001b[0moutput\u001b[0m\u001b[1;33m,\u001b[0m \u001b[0mfunction\u001b[0m\u001b[1;33m,\u001b[0m \u001b[0mself\u001b[0m\u001b[1;33m.\u001b[0m\u001b[0mplasmids\u001b[0m\u001b[1;33m,\u001b[0m \u001b[0mparams\u001b[0m\u001b[1;33m=\u001b[0m\u001b[0mparams\u001b[0m\u001b[1;33m,\u001b[0m \u001b[0mmod_degradation\u001b[0m\u001b[1;33m=\u001b[0m\u001b[0mmod_degradation\u001b[0m\u001b[1;33m)\u001b[0m\u001b[1;33m\u001b[0m\u001b[1;33m\u001b[0m\u001b[0m\n\u001b[0m\u001b[0;32m     68\u001b[0m \u001b[1;33m\u001b[0m\u001b[0m\n\u001b[0;32m     69\u001b[0m     \u001b[1;32mdef\u001b[0m \u001b[0mlose_plasmid\u001b[0m\u001b[1;33m(\u001b[0m\u001b[0mself\u001b[0m\u001b[1;33m,\u001b[0m \u001b[0mplasmid_id\u001b[0m\u001b[1;33m=\u001b[0m\u001b[1;32mNone\u001b[0m\u001b[1;33m)\u001b[0m\u001b[1;33m:\u001b[0m\u001b[1;33m\u001b[0m\u001b[1;33m\u001b[0m\u001b[0m\n",
      "\u001b[1;32m~\\OneDrive - Univerza v Ljubljani\\Research\\2021_Evolution\\code\\evolution\\cell.py\u001b[0m in \u001b[0;36madd_operon\u001b[1;34m(self, label, inputs, output, function, add_to, params, mod_degradation)\u001b[0m\n\u001b[0;32m     57\u001b[0m         \u001b[0madd_to\u001b[0m\u001b[1;33m[\u001b[0m\u001b[0mlabel\u001b[0m\u001b[1;33m]\u001b[0m \u001b[1;33m=\u001b[0m \u001b[0md\u001b[0m\u001b[1;33m\u001b[0m\u001b[1;33m\u001b[0m\u001b[0m\n\u001b[0;32m     58\u001b[0m \u001b[1;33m\u001b[0m\u001b[0m\n\u001b[1;32m---> 59\u001b[1;33m         \u001b[1;32mfor\u001b[0m \u001b[0mx\u001b[0m \u001b[1;32min\u001b[0m \u001b[0minputs\u001b[0m \u001b[1;33m+\u001b[0m \u001b[1;33m[\u001b[0m\u001b[0moutput\u001b[0m\u001b[1;33m]\u001b[0m\u001b[1;33m:\u001b[0m\u001b[1;33m\u001b[0m\u001b[1;33m\u001b[0m\u001b[0m\n\u001b[0m\u001b[0;32m     60\u001b[0m             \u001b[1;32mif\u001b[0m \u001b[0mx\u001b[0m \u001b[1;32mnot\u001b[0m \u001b[1;32min\u001b[0m \u001b[0mself\u001b[0m\u001b[1;33m.\u001b[0m\u001b[0mstate\u001b[0m\u001b[1;33m:\u001b[0m\u001b[1;33m\u001b[0m\u001b[1;33m\u001b[0m\u001b[0m\n\u001b[0;32m     61\u001b[0m                 \u001b[0mself\u001b[0m\u001b[1;33m.\u001b[0m\u001b[0mstate\u001b[0m\u001b[1;33m[\u001b[0m\u001b[0mx\u001b[0m\u001b[1;33m]\u001b[0m \u001b[1;33m=\u001b[0m \u001b[1;36m0\u001b[0m\u001b[1;33m\u001b[0m\u001b[1;33m\u001b[0m\u001b[0m\n",
      "\u001b[1;31mTypeError\u001b[0m: can only concatenate str (not \"list\") to str"
     ]
    }
   ],
   "source": [
    "plasmids = [(\"in_1\", \"x11\", \"YES\"),\n",
    "            (\"in_2\", \"x11\", \"NOT\"),\n",
    "            (\"in_1\", \"x12\", \"NOT\"),\n",
    "            (\"in_2\", \"x12\", \"YES\"),\n",
    "            (\"y\", \"x11\", \"NOT\"),\n",
    "            (\"y\", \"x12\", \"NOT\")]\n",
    "\n",
    "pop = generate_population.generate_cells_function(5, plasmids)"
   ]
  },
  {
   "cell_type": "code",
   "execution_count": 212,
   "metadata": {},
   "outputs": [],
   "source": [
    "pl = generate_population.generate_program_plasmids_function(plasmids)[1]"
   ]
  },
  {
   "cell_type": "code",
   "execution_count": 213,
   "metadata": {},
   "outputs": [
    {
     "data": {
      "text/plain": [
       "({'test0_AND': {'inputs': ['x_11', 'x_12'],\n",
       "   'output': 'y',\n",
       "   'f': <function models.AND(in1, in2, params=(10, 1, 2))>},\n",
       "  'test1_AND': {'inputs': ['x_11', 'x13'],\n",
       "   'output': 'y',\n",
       "   'f': <function models.AND(in1, in2, params=(10, 1, 2))>},\n",
       "  'test2_AND': {'inputs': ['x_12', 'x13'],\n",
       "   'output': 'y',\n",
       "   'f': <function models.AND(in1, in2, params=(10, 1, 2))>}},\n",
       " ['test0_AND', 'test1_AND', 'test2_AND'])"
      ]
     },
     "execution_count": 213,
     "metadata": {},
     "output_type": "execute_result"
    }
   ],
   "source": [
    "generate_population.generate_plasmids_AND(['x_11', 'x_12', 'x13'], 'y', 'test')"
   ]
  },
  {
   "cell_type": "code",
   "execution_count": null,
   "metadata": {},
   "outputs": [],
   "source": []
  },
  {
   "cell_type": "code",
   "execution_count": 214,
   "metadata": {},
   "outputs": [
    {
     "data": {
      "text/plain": [
       "dict_keys(['x11=YES(in_1)', 'x11=NOT(in_2)', 'x12=NOT(in_1)', 'x12=YES(in_2)', 'x11=NOT(y)', 'x12=NOT(y)'])"
      ]
     },
     "execution_count": 214,
     "metadata": {},
     "output_type": "execute_result"
    }
   ],
   "source": [
    "pop[1,2].plasmids.keys()"
   ]
  },
  {
   "cell_type": "code",
   "execution_count": null,
   "metadata": {},
   "outputs": [],
   "source": []
  },
  {
   "cell_type": "code",
   "execution_count": null,
   "metadata": {},
   "outputs": [],
   "source": []
  },
  {
   "cell_type": "code",
   "execution_count": null,
   "metadata": {},
   "outputs": [],
   "source": []
  },
  {
   "cell_type": "code",
   "execution_count": null,
   "metadata": {},
   "outputs": [],
   "source": []
  },
  {
   "cell_type": "code",
   "execution_count": null,
   "metadata": {},
   "outputs": [],
   "source": []
  },
  {
   "cell_type": "code",
   "execution_count": null,
   "metadata": {},
   "outputs": [],
   "source": []
  },
  {
   "cell_type": "code",
   "execution_count": null,
   "metadata": {},
   "outputs": [],
   "source": []
  },
  {
   "cell_type": "code",
   "execution_count": 219,
   "metadata": {},
   "outputs": [],
   "source": [
    "pop = generate_population.generate_cells(N=4, N_inputs=2, N_layers=2, N_terms=2, layered=False)"
   ]
  },
  {
   "cell_type": "code",
   "execution_count": null,
   "metadata": {},
   "outputs": [],
   "source": []
  },
  {
   "cell_type": "code",
   "execution_count": 220,
   "metadata": {},
   "outputs": [
    {
     "name": "stdout",
     "output_type": "stream",
     "text": [
      "dict_keys(['P1_1_AND', 'P1_0_AND', 'P1_3_NOT'])\n",
      "dict_keys(['P0_2_NOT', 'P1_0_YES', 'P1_3_NOT', 'P1_1_AND', 'P1_3_YES'])\n",
      "dict_keys(['P2_1_YES', 'P0_1_YES', 'P0_0_NOT', 'P1_2_NOT', 'P0_3_YES'])\n",
      "dict_keys(['P1_1_YES'])\n",
      "dict_keys(['P0_0_AND', 'P0_0_NOT'])\n",
      "dict_keys(['P1_1_YES', 'P0_1_YES', 'P1_0_YES', 'P2_1_YES', 'P1_0_AND'])\n",
      "dict_keys(['P2_0_NOT', 'P0_3_NOT', 'P1_3_NOT', 'P1_1_YES', 'P1_0_NOT'])\n",
      "dict_keys(['P2_1_YES', 'P0_3_NOT', 'P2_1_NOT', 'P2_0_AND', 'P1_0_NOT'])\n",
      "dict_keys(['P1_1_AND', 'P2_1_NOT', 'P1_1_NOT', 'P0_2_NOT', 'P0_1_AND'])\n",
      "dict_keys(['P1_3_NOT', 'P0_3_YES'])\n",
      "dict_keys(['P1_3_YES', 'P1_2_NOT', 'P1_1_NOT', 'P1_2_YES', 'P1_0_NOT'])\n",
      "dict_keys(['P0_1_NOT', 'P0_0_YES', 'P1_1_NOT', 'P1_0_YES', 'P2_0_AND'])\n",
      "dict_keys(['P2_0_YES', 'P1_2_NOT', 'P2_1_NOT', 'P1_3_YES', 'P0_0_NOT'])\n",
      "dict_keys(['P1_0_AND', 'P0_0_NOT', 'P1_3_NOT', 'P1_1_AND', 'P1_2_YES'])\n",
      "dict_keys(['P2_0_YES', 'P0_1_YES', 'P1_0_YES', 'P2_0_AND', 'P0_1_NOT'])\n",
      "dict_keys(['P1_3_NOT', 'P2_0_YES', 'P0_0_YES', 'P1_2_YES', 'P2_0_NOT'])\n"
     ]
    }
   ],
   "source": [
    "for i in range(4):\n",
    "    for j in range(4):\n",
    "        print(pop[i,j].plasmids.keys())"
   ]
  },
  {
   "cell_type": "code",
   "execution_count": 163,
   "metadata": {},
   "outputs": [
    {
     "name": "stdout",
     "output_type": "stream",
     "text": [
      "dict_keys(['P1_0_NOT', 'P0_1_YES', 'P0_0_NOT', 'P1_0_YES'])\n",
      "dict_keys(['P0_1_NOT'])\n",
      "dict_keys(['P0_0_NOT', 'P1_0_YES'])\n"
     ]
    },
    {
     "data": {
      "text/plain": [
       "<cell.cell at 0x1f97efff588>"
      ]
     },
     "execution_count": 163,
     "metadata": {},
     "output_type": "execute_result"
    }
   ],
   "source": [
    "generate_population.cross_random_neighbours(pop, 1,1)"
   ]
  },
  {
   "cell_type": "code",
   "execution_count": 81,
   "metadata": {},
   "outputs": [],
   "source": [
    "c = generate_population.find_best_neighbour(pop,0,0, mode=\"fitness\")"
   ]
  },
  {
   "cell_type": "code",
   "execution_count": 5,
   "metadata": {},
   "outputs": [
    {
     "data": {
      "text/plain": [
       "0"
      ]
     },
     "execution_count": 5,
     "metadata": {},
     "output_type": "execute_result"
    }
   ],
   "source": [
    "c.state['fitness']"
   ]
  },
  {
   "cell_type": "code",
   "execution_count": 6,
   "metadata": {},
   "outputs": [],
   "source": [
    "from sympy.abc import x, B, D"
   ]
  },
  {
   "cell_type": "code",
   "execution_count": 13,
   "metadata": {},
   "outputs": [],
   "source": [
    "from sympy import symbols\n",
    "from sympy.logic.boolalg import to_cnf\n",
    "\n",
    "inputs = ['in_1', 'in_2']\n"
   ]
  },
  {
   "cell_type": "code",
   "execution_count": null,
   "metadata": {},
   "outputs": [],
   "source": [
    "locals()['in_1'], locals()['in_2'] = symbols(\",\".join(inputs))"
   ]
  },
  {
   "cell_type": "code",
   "execution_count": 14,
   "metadata": {},
   "outputs": [
    {
     "data": {
      "text/plain": [
       "tuple"
      ]
     },
     "execution_count": 14,
     "metadata": {},
     "output_type": "execute_result"
    }
   ],
   "source": [
    "type(symbols(\",\".join(inputs)))"
   ]
  },
  {
   "cell_type": "code",
   "execution_count": null,
   "metadata": {},
   "outputs": [],
   "source": []
  },
  {
   "cell_type": "code",
   "execution_count": 8,
   "metadata": {},
   "outputs": [],
   "source": [
    "y=~(in_1 | ~(in_2) | in_2) | in_1 | ~(in_2) | in_2"
   ]
  },
  {
   "cell_type": "code",
   "execution_count": 9,
   "metadata": {},
   "outputs": [],
   "source": [
    "x = to_cnf(y, True)"
   ]
  },
  {
   "cell_type": "code",
   "execution_count": 91,
   "metadata": {},
   "outputs": [
    {
     "data": {
      "text/plain": [
       "'True'"
      ]
     },
     "execution_count": 91,
     "metadata": {},
     "output_type": "execute_result"
    }
   ],
   "source": [
    "str(x)"
   ]
  },
  {
   "cell_type": "code",
   "execution_count": 21,
   "metadata": {},
   "outputs": [
    {
     "name": "stdout",
     "output_type": "stream",
     "text": [
      "y=NOT(NOT(in_1))\n",
      "{'P0_0_NOT': {'inputs': ['in_1'], 'output': 'x_1_1', 'f': <function NOT at 0x000001EFEDA34488>}, 'P1_0_NOT': {'inputs': ['x_1_1'], 'output': 'y', 'f': <function NOT at 0x000001EFEDA34488>}}\n",
      "y=NOT(NOT(in_1) OR NOT(in_2))\n",
      "{'P0_0_NOT': {'inputs': ['in_1'], 'output': 'x_1_1', 'f': <function NOT at 0x000001EFEDA34488>}, 'P1_0_NOT': {'inputs': ['x_1_1'], 'output': 'y', 'f': <function NOT at 0x000001EFEDA34488>}, 'P0_1_NOT': {'inputs': ['in_2'], 'output': 'x_1_1', 'f': <function NOT at 0x000001EFEDA34488>}}\n"
     ]
    }
   ],
   "source": [
    "generate_population.give_plasmid(pop,0,0,p)"
   ]
  },
  {
   "cell_type": "code",
   "execution_count": 94,
   "metadata": {},
   "outputs": [
    {
     "data": {
      "text/plain": [
       "{'P0_0_YES': {'inputs': ['in_1'],\n",
       "  'output': 'x_1_1',\n",
       "  'f': <function models.YES(x, params=(10, 1, 2))>},\n",
       " 'P1_0_NOT': {'inputs': ['x_1_1'],\n",
       "  'output': 'y',\n",
       "  'f': <function models.NOT(x, params=(10, 1, 2))>},\n",
       " 'P1_0_YES': {'inputs': ['x_1_1'],\n",
       "  'output': 'y',\n",
       "  'f': <function models.YES(x, params=(10, 1, 2))>}}"
      ]
     },
     "execution_count": 94,
     "metadata": {},
     "output_type": "execute_result"
    }
   ],
   "source": [
    "pop[1,1].plasmids"
   ]
  },
  {
   "cell_type": "code",
   "execution_count": 227,
   "metadata": {},
   "outputs": [],
   "source": [
    "pop[1,1].update(global_vars = {\"in1\": 10, \"in2\": 10, \"eval\": 10})"
   ]
  },
  {
   "cell_type": "code",
   "execution_count": 233,
   "metadata": {},
   "outputs": [
    {
     "data": {
      "text/plain": [
       "'y=NOT(NOT(in_1) OR in_1)'"
      ]
     },
     "execution_count": 233,
     "metadata": {},
     "output_type": "execute_result"
    }
   ],
   "source": [
    "pop[0,0].decode_function()"
   ]
  },
  {
   "cell_type": "code",
   "execution_count": 219,
   "metadata": {},
   "outputs": [],
   "source": [
    "C = cell.cell()\n",
    "C.add_basic_function(\"fitness_operon\", [\"eval\", \"y\"], \"fitness\", models.AND)"
   ]
  },
  {
   "cell_type": "code",
   "execution_count": 264,
   "metadata": {},
   "outputs": [
    {
     "data": {
      "text/plain": [
       "1"
      ]
     },
     "execution_count": 264,
     "metadata": {},
     "output_type": "execute_result"
    }
   ],
   "source": [
    "pop.shape[0]"
   ]
  },
  {
   "cell_type": "code",
   "execution_count": 236,
   "metadata": {},
   "outputs": [
    {
     "data": {
      "text/plain": [
       "0.0"
      ]
     },
     "execution_count": 236,
     "metadata": {},
     "output_type": "execute_result"
    }
   ],
   "source": [
    "100.0 % 10"
   ]
  },
  {
   "cell_type": "code",
   "execution_count": 244,
   "metadata": {},
   "outputs": [
    {
     "data": {
      "text/plain": [
       "True"
      ]
     },
     "execution_count": 244,
     "metadata": {},
     "output_type": "execute_result"
    }
   ],
   "source": [
    "(1.0 % 1) == 0"
   ]
  },
  {
   "cell_type": "code",
   "execution_count": 247,
   "metadata": {},
   "outputs": [],
   "source": [
    "d = {'a':1, 'b':2}"
   ]
  },
  {
   "cell_type": "code",
   "execution_count": 248,
   "metadata": {},
   "outputs": [
    {
     "data": {
      "text/plain": [
       "{'a': 1, 'b': 2}"
      ]
     },
     "execution_count": 248,
     "metadata": {},
     "output_type": "execute_result"
    }
   ],
   "source": [
    "d"
   ]
  },
  {
   "cell_type": "code",
   "execution_count": 250,
   "metadata": {},
   "outputs": [],
   "source": [
    "d.update({'c':3})"
   ]
  },
  {
   "cell_type": "code",
   "execution_count": 251,
   "metadata": {},
   "outputs": [
    {
     "data": {
      "text/plain": [
       "{'a': 1, 'b': 2, 'c': 3}"
      ]
     },
     "execution_count": 251,
     "metadata": {},
     "output_type": "execute_result"
    }
   ],
   "source": [
    "d"
   ]
  },
  {
   "cell_type": "code",
   "execution_count": 254,
   "metadata": {},
   "outputs": [],
   "source": [
    "d.update({'a':0,'c':10})"
   ]
  },
  {
   "cell_type": "code",
   "execution_count": 255,
   "metadata": {},
   "outputs": [
    {
     "data": {
      "text/plain": [
       "{'a': 0, 'b': 2, 'c': 10}"
      ]
     },
     "execution_count": 255,
     "metadata": {},
     "output_type": "execute_result"
    }
   ],
   "source": [
    "d"
   ]
  },
  {
   "cell_type": "code",
   "execution_count": null,
   "metadata": {},
   "outputs": [],
   "source": []
  },
  {
   "cell_type": "code",
   "execution_count": 126,
   "metadata": {},
   "outputs": [],
   "source": [
    "C.state['eval'] = 10\n",
    "C.state['y'] = 10"
   ]
  },
  {
   "cell_type": "code",
   "execution_count": 44,
   "metadata": {},
   "outputs": [
    {
     "data": {
      "text/plain": [
       "{'eval': 10, 'y': 10, 'fitness': 0}"
      ]
     },
     "execution_count": 44,
     "metadata": {},
     "output_type": "execute_result"
    }
   ],
   "source": [
    "C.state"
   ]
  },
  {
   "cell_type": "code",
   "execution_count": 56,
   "metadata": {},
   "outputs": [],
   "source": [
    "C.update(global_vars = {'eval':5})"
   ]
  },
  {
   "cell_type": "code",
   "execution_count": 246,
   "metadata": {},
   "outputs": [
    {
     "data": {
      "text/plain": [
       "{'eval': 0, 'y': 0, 'fitness': 0}"
      ]
     },
     "execution_count": 246,
     "metadata": {},
     "output_type": "execute_result"
    }
   ],
   "source": [
    "C.state"
   ]
  },
  {
   "cell_type": "code",
   "execution_count": 245,
   "metadata": {},
   "outputs": [
    {
     "data": {
      "text/plain": [
       "array([2])"
      ]
     },
     "execution_count": 245,
     "metadata": {},
     "output_type": "execute_result"
    }
   ],
   "source": [
    "np.random.choice([1,2,3], size=1)"
   ]
  }
 ],
 "metadata": {
  "kernelspec": {
   "display_name": "Python 3.7.3 64-bit ('base': conda)",
   "language": "python",
   "name": "python37364bitbasecondacd385dda59854559b44e3f82ede14f15"
  },
  "language_info": {
   "codemirror_mode": {
    "name": "ipython",
    "version": 3
   },
   "file_extension": ".py",
   "mimetype": "text/x-python",
   "name": "python",
   "nbconvert_exporter": "python",
   "pygments_lexer": "ipython3",
   "version": "3.7.3"
  }
 },
 "nbformat": 4,
 "nbformat_minor": 2
}
