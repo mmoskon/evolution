{
 "cells": [
  {
   "cell_type": "code",
   "execution_count": 1,
   "metadata": {},
   "outputs": [],
   "source": [
    "import numpy as np\n",
    "import pandas as pd\n",
    "import matplotlib.pyplot as plt\n",
    "import os\n",
    "\n",
    "from sympy import symbols\n",
    "from sympy.logic.boolalg import to_dnf"
   ]
  },
  {
   "cell_type": "code",
   "execution_count": 2,
   "metadata": {},
   "outputs": [
    {
     "name": "stdout",
     "output_type": "stream",
     "text": [
      "2021 10 12 19 13 38\n"
     ]
    }
   ],
   "source": [
    "import datetime\n",
    "now = datetime.datetime.now()\n",
    "print(now.year, now.month, now.day, now.hour, now.minute, now.second)"
   ]
  },
  {
   "cell_type": "code",
   "execution_count": 3,
   "metadata": {},
   "outputs": [],
   "source": [
    "final_func = None"
   ]
  },
  {
   "cell_type": "code",
   "execution_count": 4,
   "metadata": {},
   "outputs": [],
   "source": [
    "convert_to_syms = True # converts a string presenting a function to a symbolic expression using the sympy library"
   ]
  },
  {
   "cell_type": "code",
   "execution_count": 5,
   "metadata": {},
   "outputs": [],
   "source": [
    "#file_name = os.path.join(\"examples\", \"functions_XOR3_100.txt\")\n",
    "file_name = os.path.join(\"examples\", \"functions2\",\"functions2.txt\")"
   ]
  },
  {
   "cell_type": "code",
   "execution_count": 6,
   "metadata": {},
   "outputs": [],
   "source": [
    "f = open(file_name)\n",
    "\n",
    "data = {}\n",
    "for l in f:\n",
    "    if l.startswith(\"-1\"):\n",
    "        final_func = l.strip().split(\";\")[1]\n",
    "        continue\n",
    "    \n",
    "    s = l.strip().split(\";\")\n",
    "    t = float(s[0].split(\"=\")[1])\n",
    "    data[t] = {}\n",
    "    for func in s[1:]:\n",
    "        if func:\n",
    "            func,n = func.split(\":\")\n",
    "            try:\n",
    "                func = func.strip().split(\"=\")[1]\n",
    "            except:\n",
    "                func = \"None\"\n",
    "                \n",
    "            if convert_to_syms:\n",
    "                ins = func.replace(\"|\", \"\").replace(\"&\",\"\").replace(\"~\",\"\").replace(\"(\",\"\").replace(\")\",\"\").split()\n",
    "                syms = symbols(ins)\n",
    "                for i, sym in zip(ins,syms):\n",
    "                    globals()[i] = sym\n",
    "\n",
    "                func = to_dnf(func, True)\n",
    "\n",
    "            n = int(n)\n",
    "            data[t][func] = n"
   ]
  },
  {
   "cell_type": "code",
   "execution_count": 7,
   "metadata": {},
   "outputs": [],
   "source": [
    "if convert_to_syms:\n",
    "    final_func = to_dnf(final_func, True)\n"
   ]
  },
  {
   "cell_type": "code",
   "execution_count": 8,
   "metadata": {},
   "outputs": [],
   "source": [
    "T = list(data.keys())\n",
    "N = sum(data[T[0]].values())"
   ]
  },
  {
   "cell_type": "markdown",
   "metadata": {},
   "source": [
    "We presume that the solution has converged to an optimal solution"
   ]
  },
  {
   "cell_type": "code",
   "execution_count": 9,
   "metadata": {},
   "outputs": [
    {
     "data": {
      "text/latex": [
       "$\\displaystyle \\left(in_{1} \\wedge \\neg in_{2}\\right) \\vee \\left(in_{2} \\wedge \\neg in_{1}\\right)$"
      ],
      "text/plain": [
       "(in_1 & ~in_2) | (in_2 & ~in_1)"
      ]
     },
     "execution_count": 9,
     "metadata": {},
     "output_type": "execute_result"
    }
   ],
   "source": [
    "final_sol = sorted(zip(data[t].values(), data[t].keys()))\n",
    "best_sol = final_sol[0][1]\n",
    "best_sol"
   ]
  },
  {
   "cell_type": "code",
   "execution_count": 10,
   "metadata": {},
   "outputs": [],
   "source": [
    "if not final_func:\n",
    "    final_func = best_sol"
   ]
  },
  {
   "cell_type": "code",
   "execution_count": 11,
   "metadata": {},
   "outputs": [],
   "source": [
    "counts = []\n",
    "for t,functions in data.items():\n",
    "    if final_func in functions:\n",
    "        counts.append(functions[final_func]/N)\n",
    "    else:\n",
    "        counts.append(0)          "
   ]
  },
  {
   "cell_type": "code",
   "execution_count": 12,
   "metadata": {},
   "outputs": [
    {
     "data": {
      "image/png": "[encoded data removed]",
      "text/plain": [
       "<Figure size 432x288 with 1 Axes>"
      ]
     },
     "metadata": {
      "needs_background": "light"
     },
     "output_type": "display_data"
    }
   ],
   "source": [
    "plt.plot(T,counts)\n",
    "plt.xlabel(\"Time [min]\")\n",
    "plt.ylabel(\"Fraction of cells\")\n",
    "plt.title(f\"N={N}\")\n",
    "plt.show()"
   ]
  },
  {
   "cell_type": "code",
   "execution_count": null,
   "metadata": {},
   "outputs": [],
   "source": []
  },
  {
   "cell_type": "code",
   "execution_count": null,
   "metadata": {},
   "outputs": [],
   "source": []
  }
 ],
 "metadata": {
  "kernelspec": {
   "display_name": "Python 3.7.3 64-bit ('base': conda)",
   "language": "python",
   "name": "python37364bitbasecondacd385dda59854559b44e3f82ede14f15"
  },
  "language_info": {
   "codemirror_mode": {
    "name": "ipython",
    "version": 3
   },
   "file_extension": ".py",
   "mimetype": "text/x-python",
   "name": "python",
   "nbconvert_exporter": "python",
   "pygments_lexer": "ipython3",
   "version": "3.7.3"
  }
 },
 "nbformat": 4,
 "nbformat_minor": 2
}
