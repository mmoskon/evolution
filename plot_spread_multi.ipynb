{
 "cells": [
  {
   "cell_type": "code",
   "execution_count": 1,
   "metadata": {},
   "outputs": [],
   "source": [
    "import numpy as np\n",
    "import pandas as pd\n",
    "import matplotlib.pyplot as plt\n",
    "import os\n",
    "\n",
    "from sympy import symbols\n",
    "from sympy.logic.boolalg import to_dnf"
   ]
  },
  {
   "cell_type": "code",
   "execution_count": 2,
   "metadata": {},
   "outputs": [],
   "source": [
    "folder = os.path.join(\"examples\", \"functions_xor2\")"
   ]
  },
  {
   "cell_type": "code",
   "execution_count": 7,
   "metadata": {},
   "outputs": [],
   "source": [
    "def read_file(file_name, convert_to_syms = True): # convert_to_syms: converts a string presenting a function to a symbolic expression using the sympy library\n",
    "\n",
    "    f = open(file_name)\n",
    "    final_func = None\n",
    "\n",
    "    data = {}\n",
    "    for l in f:\n",
    "        if l.startswith(\"-1\"):\n",
    "            final_func = l.strip().split(\";\")[1]\n",
    "            continue\n",
    "\n",
    "        s = l.strip().split(\";\")\n",
    "        t = float(s[0].split(\"=\")[1])\n",
    "        data[t] = {}\n",
    "        for func in s[1:]:\n",
    "            if func:\n",
    "                func,n = func.split(\":\")\n",
    "                try:\n",
    "                    func = func.strip().split(\"=\")[1]\n",
    "                except:\n",
    "                    func = \"None\"\n",
    "\n",
    "                if convert_to_syms:\n",
    "                    ins = func.replace(\"|\", \"\").replace(\"&\",\"\").replace(\"~\",\"\").replace(\"(\",\"\").replace(\")\",\"\").split()\n",
    "                    syms = symbols(ins)\n",
    "                    for i, sym in zip(ins,syms):\n",
    "                        globals()[i] = sym\n",
    "\n",
    "                    func = to_dnf(func, True)\n",
    "\n",
    "                n = int(n)\n",
    "                data[t][func] = n\n",
    "    if convert_to_syms:\n",
    "        final_func = to_dnf(final_func, True)\n",
    "\n",
    "    T = list(data.keys())\n",
    "    N = sum(data[T[0]].values())\n",
    "\n",
    "    final_sol = sorted(zip(data[t].values(), data[t].keys()))\n",
    "    best_sol = final_sol[0][1]\n",
    "\n",
    "    if not final_func:\n",
    "        final_func = best_sol\n",
    "\n",
    "    counts = []\n",
    "    for t,functions in data.items():\n",
    "        if final_func in functions:\n",
    "            counts.append(functions[final_func]/N)\n",
    "        else:\n",
    "            counts.append(0)   \n",
    "    f.close()\n",
    "    return(N, T, counts, final_func)"
   ]
  },
  {
   "cell_type": "code",
   "execution_count": 8,
   "metadata": {},
   "outputs": [],
   "source": [
    "#file_name = os.path.join(\"examples\", \"functions_XOR3_100.txt\")\n",
    "file_names = os.listdir(folder)"
   ]
  },
  {
   "cell_type": "code",
   "execution_count": 9,
   "metadata": {},
   "outputs": [],
   "source": [
    "Cs = []\n",
    "\n",
    "for file_name in file_names:\n",
    "    N, T, counts, final_func = read_file(os.path.join(folder,file_name))\n",
    "    Cs.append(counts)\n",
    "    \n",
    "Cs = np.array(Cs)"
   ]
  },
  {
   "cell_type": "code",
   "execution_count": 10,
   "metadata": {},
   "outputs": [
    {
     "data": {
      "image/png": "[encoded data removed]",
      "text/plain": [
       "<Figure size 432x288 with 1 Axes>"
      ]
     },
     "metadata": {
      "needs_background": "light"
     },
     "output_type": "display_data"
    }
   ],
   "source": [
    "for i,counts in enumerate(Cs):\n",
    "    if not i:\n",
    "        plt.plot(T, counts, color=\"black\", alpha = 0.25, label='convergence')\n",
    "    else:\n",
    "        plt.plot(T, counts, color=\"black\", alpha = 0.25, label='_no_legend')\n",
    "    #plt.xticks(np.arange(0,len(T),100), T[::100])\n",
    "\n",
    "mean_Cs = np.mean(Cs, axis=0)\n",
    "plt.plot(T, mean_Cs, color=\"red\", alpha = 0.5, label='mean convergence')\n",
    "plt.legend()\n",
    "plt.xlabel(\"Time [min]\")\n",
    "plt.ylabel(\"Fraction of cells\")\n",
    "plt.title(f\"N={N}\")\n",
    "plt.show()"
   ]
  },
  {
   "cell_type": "code",
   "execution_count": null,
   "metadata": {},
   "outputs": [],
   "source": []
  },
  {
   "cell_type": "code",
   "execution_count": null,
   "metadata": {},
   "outputs": [],
   "source": []
  }
 ],
 "metadata": {
  "kernelspec": {
   "display_name": "Python 3.7.3 64-bit ('base': conda)",
   "language": "python",
   "name": "python37364bitbasecondacd385dda59854559b44e3f82ede14f15"
  },
  "language_info": {
   "codemirror_mode": {
    "name": "ipython",
    "version": 3
   },
   "file_extension": ".py",
   "mimetype": "text/x-python",
   "name": "python",
   "nbconvert_exporter": "python",
   "pygments_lexer": "ipython3",
   "version": "3.7.3"
  }
 },
 "nbformat": 4,
 "nbformat_minor": 2
}
