{
 "cells": [
  {
   "cell_type": "code",
   "execution_count": 12,
   "metadata": {},
   "outputs": [],
   "source": [
    "import numpy as np\n",
    "import pandas as pd\n",
    "import matplotlib.pyplot as plt\n",
    "import os\n",
    "\n",
    "from sympy import symbols\n",
    "from sympy.logic.boolalg import to_dnf"
   ]
  },
  {
   "cell_type": "code",
   "execution_count": 2,
   "metadata": {},
   "outputs": [],
   "source": [
    "folder = os.path.join(\"tests\", \"functions_simple_and2\", \"25\")"
   ]
  },
  {
   "cell_type": "code",
   "execution_count": 3,
   "metadata": {},
   "outputs": [],
   "source": [
    "def read_file(file_name, convert_to_syms = True): # convert_to_syms: converts a string presenting a function to a symbolic expression using the sympy library\n",
    "\n",
    "    f = open(file_name)\n",
    "    final_func = None\n",
    "\n",
    "    data = {}\n",
    "    for l in f:\n",
    "        if l.startswith(\"-1\"):\n",
    "            final_func = l.strip().split(\";\")[1]\n",
    "            continue\n",
    "\n",
    "        s = l.strip().split(\";\")\n",
    "        t = float(s[0].split(\"=\")[1])\n",
    "        data[t] = {}\n",
    "        for func in s[1:]:\n",
    "            if func:\n",
    "                func,n = func.split(\":\")\n",
    "                try:\n",
    "                    func = func.strip().split(\"=\")[1]\n",
    "                except:\n",
    "                    func = \"None\"\n",
    "\n",
    "                if convert_to_syms:\n",
    "                    ins = func.replace(\"|\", \"\").replace(\"&\",\"\").replace(\"~\",\"\").replace(\"(\",\"\").replace(\")\",\"\").split()\n",
    "                    syms = symbols(ins)\n",
    "                    for i, sym in zip(ins,syms):\n",
    "                        globals()[i] = sym\n",
    "\n",
    "                    func = to_dnf(func, True)\n",
    "\n",
    "                n = int(n)\n",
    "                \n",
    "                if func not in data[t]:\n",
    "                    data[t][func] = n\n",
    "                else:\n",
    "                    data[t][func] += n\n",
    "\n",
    "    if convert_to_syms:\n",
    "        final_func = to_dnf(final_func, True)\n",
    "\n",
    "    T = list(data.keys())\n",
    "    N = sum(data[T[0]].values())\n",
    "\n",
    "    final_sol = sorted(list(data[t].items()), key = lambda x: x[1], reverse=True)\n",
    "    best_sol = final_sol[0][0]\n",
    "\n",
    "    if not final_func:\n",
    "        final_func = best_sol\n",
    "\n",
    "    counts = []\n",
    "    for t,functions in data.items():\n",
    "        if final_func in functions:\n",
    "            counts.append(functions[final_func]/N)\n",
    "        else:\n",
    "            counts.append(0)   \n",
    "    f.close()\n",
    "    return(N, T, counts, final_func)"
   ]
  },
  {
   "cell_type": "code",
   "execution_count": 4,
   "metadata": {},
   "outputs": [],
   "source": [
    "#file_name = os.path.join(\"examples\", \"functions_XOR3_100.txt\")\n",
    "file_names = os.listdir(folder)"
   ]
  },
  {
   "cell_type": "code",
   "execution_count": 9,
   "metadata": {},
   "outputs": [],
   "source": [
    "Cs = []\n",
    "\n",
    "for file_name in file_names:\n",
    "    N, T, counts, final_func = read_file(os.path.join(folder,file_name), convert_to_syms = True)\n",
    "    Cs.append(counts)\n",
    "    \n",
    "Cs = np.array(Cs)"
   ]
  },
  {
   "cell_type": "code",
   "execution_count": 10,
   "metadata": {},
   "outputs": [
    {
     "data": {
      "text/plain": [
       "'functions2_2021_10_13_11_8_14.txt'"
      ]
     },
     "execution_count": 10,
     "metadata": {},
     "output_type": "execute_result"
    }
   ],
   "source": [
    "file_name"
   ]
  },
  {
   "cell_type": "code",
   "execution_count": 11,
   "metadata": {},
   "outputs": [
    {
     "data": {
      "image/png": "[encoded data removed]",
      "text/plain": [
       "<Figure size 432x288 with 1 Axes>"
      ]
     },
     "metadata": {
      "needs_background": "light"
     },
     "output_type": "display_data"
    }
   ],
   "source": [
    "for i,counts in enumerate(Cs):\n",
    "    if not i:\n",
    "        plt.plot(T, counts, color=\"black\", alpha = 0.25, label='convergence')\n",
    "    else:\n",
    "        plt.plot(T, counts, color=\"black\", alpha = 0.25, label='_no_legend')\n",
    "    #plt.xticks(np.arange(0,len(T),100), T[::100])\n",
    "\n",
    "mean_Cs = np.mean(Cs, axis=0)\n",
    "plt.plot(T, mean_Cs, color=\"red\", alpha = 0.5, label='mean convergence')\n",
    "plt.legend()\n",
    "plt.xlabel(\"Time [min]\")\n",
    "plt.ylabel(\"Fraction of cells\")\n",
    "plt.title(f\"N={N}\")\n",
    "plt.show()"
   ]
  },
  {
   "cell_type": "code",
   "execution_count": 60,
   "metadata": {},
   "outputs": [
    {
     "ename": "SympifyError",
     "evalue": "Sympify of expression 'could not parse '(in_1) & in_2)'' failed, because of exception being raised:\nTokenError: ('EOF in multi-line statement', (2, 0))",
     "output_type": "error",
     "traceback": [
      "\u001b[1;31m---------------------------------------------------------------------------\u001b[0m",
      "\u001b[1;31mTokenError\u001b[0m                                Traceback (most recent call last)",
      "\u001b[1;32mC:\\ProgramData\\Anaconda3\\lib\\site-packages\\sympy\\core\\sympify.py\u001b[0m in \u001b[0;36msympify\u001b[1;34m(a, locals, convert_xor, strict, rational, evaluate)\u001b[0m\n\u001b[0;32m    383\u001b[0m         \u001b[0ma\u001b[0m \u001b[1;33m=\u001b[0m \u001b[0ma\u001b[0m\u001b[1;33m.\u001b[0m\u001b[0mreplace\u001b[0m\u001b[1;33m(\u001b[0m\u001b[1;34m'\\n'\u001b[0m\u001b[1;33m,\u001b[0m \u001b[1;34m''\u001b[0m\u001b[1;33m)\u001b[0m\u001b[1;33m\u001b[0m\u001b[1;33m\u001b[0m\u001b[0m\n\u001b[1;32m--> 384\u001b[1;33m         \u001b[0mexpr\u001b[0m \u001b[1;33m=\u001b[0m \u001b[0mparse_expr\u001b[0m\u001b[1;33m(\u001b[0m\u001b[0ma\u001b[0m\u001b[1;33m,\u001b[0m \u001b[0mlocal_dict\u001b[0m\u001b[1;33m=\u001b[0m\u001b[0mlocals\u001b[0m\u001b[1;33m,\u001b[0m \u001b[0mtransformations\u001b[0m\u001b[1;33m=\u001b[0m\u001b[0mtransformations\u001b[0m\u001b[1;33m,\u001b[0m \u001b[0mevaluate\u001b[0m\u001b[1;33m=\u001b[0m\u001b[0mevaluate\u001b[0m\u001b[1;33m)\u001b[0m\u001b[1;33m\u001b[0m\u001b[1;33m\u001b[0m\u001b[0m\n\u001b[0m\u001b[0;32m    385\u001b[0m     \u001b[1;32mexcept\u001b[0m \u001b[1;33m(\u001b[0m\u001b[0mTokenError\u001b[0m\u001b[1;33m,\u001b[0m \u001b[0mSyntaxError\u001b[0m\u001b[1;33m)\u001b[0m \u001b[1;32mas\u001b[0m \u001b[0mexc\u001b[0m\u001b[1;33m:\u001b[0m\u001b[1;33m\u001b[0m\u001b[1;33m\u001b[0m\u001b[0m\n",
      "\u001b[1;32mC:\\ProgramData\\Anaconda3\\lib\\site-packages\\sympy\\parsing\\sympy_parser.py\u001b[0m in \u001b[0;36mparse_expr\u001b[1;34m(s, local_dict, transformations, global_dict, evaluate)\u001b[0m\n\u001b[0;32m    960\u001b[0m \u001b[1;33m\u001b[0m\u001b[0m\n\u001b[1;32m--> 961\u001b[1;33m     \u001b[0mcode\u001b[0m \u001b[1;33m=\u001b[0m \u001b[0mstringify_expr\u001b[0m\u001b[1;33m(\u001b[0m\u001b[0ms\u001b[0m\u001b[1;33m,\u001b[0m \u001b[0mlocal_dict\u001b[0m\u001b[1;33m,\u001b[0m \u001b[0mglobal_dict\u001b[0m\u001b[1;33m,\u001b[0m \u001b[0mtransformations\u001b[0m\u001b[1;33m)\u001b[0m\u001b[1;33m\u001b[0m\u001b[1;33m\u001b[0m\u001b[0m\n\u001b[0m\u001b[0;32m    962\u001b[0m \u001b[1;33m\u001b[0m\u001b[0m\n",
      "\u001b[1;32mC:\\ProgramData\\Anaconda3\\lib\\site-packages\\sympy\\parsing\\sympy_parser.py\u001b[0m in \u001b[0;36mstringify_expr\u001b[1;34m(s, local_dict, global_dict, transformations)\u001b[0m\n\u001b[0;32m    862\u001b[0m     \u001b[0minput_code\u001b[0m \u001b[1;33m=\u001b[0m \u001b[0mStringIO\u001b[0m\u001b[1;33m(\u001b[0m\u001b[0ms\u001b[0m\u001b[1;33m.\u001b[0m\u001b[0mstrip\u001b[0m\u001b[1;33m(\u001b[0m\u001b[1;33m)\u001b[0m\u001b[1;33m)\u001b[0m\u001b[1;33m\u001b[0m\u001b[1;33m\u001b[0m\u001b[0m\n\u001b[1;32m--> 863\u001b[1;33m     \u001b[1;32mfor\u001b[0m \u001b[0mtoknum\u001b[0m\u001b[1;33m,\u001b[0m \u001b[0mtokval\u001b[0m\u001b[1;33m,\u001b[0m \u001b[0m_\u001b[0m\u001b[1;33m,\u001b[0m \u001b[0m_\u001b[0m\u001b[1;33m,\u001b[0m \u001b[0m_\u001b[0m \u001b[1;32min\u001b[0m \u001b[0mgenerate_tokens\u001b[0m\u001b[1;33m(\u001b[0m\u001b[0minput_code\u001b[0m\u001b[1;33m.\u001b[0m\u001b[0mreadline\u001b[0m\u001b[1;33m)\u001b[0m\u001b[1;33m:\u001b[0m\u001b[1;33m\u001b[0m\u001b[1;33m\u001b[0m\u001b[0m\n\u001b[0m\u001b[0;32m    864\u001b[0m         \u001b[0mtokens\u001b[0m\u001b[1;33m.\u001b[0m\u001b[0mappend\u001b[0m\u001b[1;33m(\u001b[0m\u001b[1;33m(\u001b[0m\u001b[0mtoknum\u001b[0m\u001b[1;33m,\u001b[0m \u001b[0mtokval\u001b[0m\u001b[1;33m)\u001b[0m\u001b[1;33m)\u001b[0m\u001b[1;33m\u001b[0m\u001b[1;33m\u001b[0m\u001b[0m\n",
      "\u001b[1;32mC:\\ProgramData\\Anaconda3\\lib\\tokenize.py\u001b[0m in \u001b[0;36m_tokenize\u001b[1;34m(readline, encoding)\u001b[0m\n\u001b[0;32m    578\u001b[0m             \u001b[1;32mif\u001b[0m \u001b[1;32mnot\u001b[0m \u001b[0mline\u001b[0m\u001b[1;33m:\u001b[0m\u001b[1;33m\u001b[0m\u001b[1;33m\u001b[0m\u001b[0m\n\u001b[1;32m--> 579\u001b[1;33m                 \u001b[1;32mraise\u001b[0m \u001b[0mTokenError\u001b[0m\u001b[1;33m(\u001b[0m\u001b[1;34m\"EOF in multi-line statement\"\u001b[0m\u001b[1;33m,\u001b[0m \u001b[1;33m(\u001b[0m\u001b[0mlnum\u001b[0m\u001b[1;33m,\u001b[0m \u001b[1;36m0\u001b[0m\u001b[1;33m)\u001b[0m\u001b[1;33m)\u001b[0m\u001b[1;33m\u001b[0m\u001b[1;33m\u001b[0m\u001b[0m\n\u001b[0m\u001b[0;32m    580\u001b[0m             \u001b[0mcontinued\u001b[0m \u001b[1;33m=\u001b[0m \u001b[1;36m0\u001b[0m\u001b[1;33m\u001b[0m\u001b[1;33m\u001b[0m\u001b[0m\n",
      "\u001b[1;31mTokenError\u001b[0m: ('EOF in multi-line statement', (2, 0))",
      "\nDuring handling of the above exception, another exception occurred:\n",
      "\u001b[1;31mSympifyError\u001b[0m                              Traceback (most recent call last)",
      "\u001b[1;32m<ipython-input-60-af4b16bb6cbb>\u001b[0m in \u001b[0;36m<module>\u001b[1;34m\u001b[0m\n\u001b[0;32m     36\u001b[0m \u001b[1;33m\u001b[0m\u001b[0m\n\u001b[0;32m     37\u001b[0m \u001b[1;32mif\u001b[0m \u001b[0mconvert_to_syms\u001b[0m\u001b[1;33m:\u001b[0m\u001b[1;33m\u001b[0m\u001b[1;33m\u001b[0m\u001b[0m\n\u001b[1;32m---> 38\u001b[1;33m     \u001b[0mfinal_func\u001b[0m \u001b[1;33m=\u001b[0m \u001b[0mto_dnf\u001b[0m\u001b[1;33m(\u001b[0m\u001b[0mfinal_func\u001b[0m\u001b[1;33m,\u001b[0m \u001b[1;32mTrue\u001b[0m\u001b[1;33m)\u001b[0m\u001b[1;33m\u001b[0m\u001b[1;33m\u001b[0m\u001b[0m\n\u001b[0m\u001b[0;32m     39\u001b[0m \u001b[1;33m\u001b[0m\u001b[0m\n\u001b[0;32m     40\u001b[0m \u001b[0mT\u001b[0m \u001b[1;33m=\u001b[0m \u001b[0mlist\u001b[0m\u001b[1;33m(\u001b[0m\u001b[0mdata\u001b[0m\u001b[1;33m.\u001b[0m\u001b[0mkeys\u001b[0m\u001b[1;33m(\u001b[0m\u001b[1;33m)\u001b[0m\u001b[1;33m)\u001b[0m\u001b[1;33m\u001b[0m\u001b[1;33m\u001b[0m\u001b[0m\n",
      "\u001b[1;32mC:\\ProgramData\\Anaconda3\\lib\\site-packages\\sympy\\logic\\boolalg.py\u001b[0m in \u001b[0;36mto_dnf\u001b[1;34m(expr, simplify)\u001b[0m\n\u001b[0;32m   1565\u001b[0m \u001b[1;33m\u001b[0m\u001b[0m\n\u001b[0;32m   1566\u001b[0m     \"\"\"\n\u001b[1;32m-> 1567\u001b[1;33m     \u001b[0mexpr\u001b[0m \u001b[1;33m=\u001b[0m \u001b[0msympify\u001b[0m\u001b[1;33m(\u001b[0m\u001b[0mexpr\u001b[0m\u001b[1;33m)\u001b[0m\u001b[1;33m\u001b[0m\u001b[1;33m\u001b[0m\u001b[0m\n\u001b[0m\u001b[0;32m   1568\u001b[0m     \u001b[1;32mif\u001b[0m \u001b[1;32mnot\u001b[0m \u001b[0misinstance\u001b[0m\u001b[1;33m(\u001b[0m\u001b[0mexpr\u001b[0m\u001b[1;33m,\u001b[0m \u001b[0mBooleanFunction\u001b[0m\u001b[1;33m)\u001b[0m\u001b[1;33m:\u001b[0m\u001b[1;33m\u001b[0m\u001b[1;33m\u001b[0m\u001b[0m\n\u001b[0;32m   1569\u001b[0m         \u001b[1;32mreturn\u001b[0m \u001b[0mexpr\u001b[0m\u001b[1;33m\u001b[0m\u001b[1;33m\u001b[0m\u001b[0m\n",
      "\u001b[1;32mC:\\ProgramData\\Anaconda3\\lib\\site-packages\\sympy\\core\\sympify.py\u001b[0m in \u001b[0;36msympify\u001b[1;34m(a, locals, convert_xor, strict, rational, evaluate)\u001b[0m\n\u001b[0;32m    384\u001b[0m         \u001b[0mexpr\u001b[0m \u001b[1;33m=\u001b[0m \u001b[0mparse_expr\u001b[0m\u001b[1;33m(\u001b[0m\u001b[0ma\u001b[0m\u001b[1;33m,\u001b[0m \u001b[0mlocal_dict\u001b[0m\u001b[1;33m=\u001b[0m\u001b[0mlocals\u001b[0m\u001b[1;33m,\u001b[0m \u001b[0mtransformations\u001b[0m\u001b[1;33m=\u001b[0m\u001b[0mtransformations\u001b[0m\u001b[1;33m,\u001b[0m \u001b[0mevaluate\u001b[0m\u001b[1;33m=\u001b[0m\u001b[0mevaluate\u001b[0m\u001b[1;33m)\u001b[0m\u001b[1;33m\u001b[0m\u001b[1;33m\u001b[0m\u001b[0m\n\u001b[0;32m    385\u001b[0m     \u001b[1;32mexcept\u001b[0m \u001b[1;33m(\u001b[0m\u001b[0mTokenError\u001b[0m\u001b[1;33m,\u001b[0m \u001b[0mSyntaxError\u001b[0m\u001b[1;33m)\u001b[0m \u001b[1;32mas\u001b[0m \u001b[0mexc\u001b[0m\u001b[1;33m:\u001b[0m\u001b[1;33m\u001b[0m\u001b[1;33m\u001b[0m\u001b[0m\n\u001b[1;32m--> 386\u001b[1;33m         \u001b[1;32mraise\u001b[0m \u001b[0mSympifyError\u001b[0m\u001b[1;33m(\u001b[0m\u001b[1;34m'could not parse %r'\u001b[0m \u001b[1;33m%\u001b[0m \u001b[0ma\u001b[0m\u001b[1;33m,\u001b[0m \u001b[0mexc\u001b[0m\u001b[1;33m)\u001b[0m\u001b[1;33m\u001b[0m\u001b[1;33m\u001b[0m\u001b[0m\n\u001b[0m\u001b[0;32m    387\u001b[0m \u001b[1;33m\u001b[0m\u001b[0m\n\u001b[0;32m    388\u001b[0m     \u001b[1;32mreturn\u001b[0m \u001b[0mexpr\u001b[0m\u001b[1;33m\u001b[0m\u001b[1;33m\u001b[0m\u001b[0m\n",
      "\u001b[1;31mSympifyError\u001b[0m: Sympify of expression 'could not parse '(in_1) & in_2)'' failed, because of exception being raised:\nTokenError: ('EOF in multi-line statement', (2, 0))"
     ]
    }
   ],
   "source": [
    "f = open(os.path.join(folder,file_name))\n",
    "convert_to_syms = True\n",
    "final_func = None\n",
    "\n",
    "data = {}\n",
    "for l in f:\n",
    "    if l.startswith(\"-1\"):\n",
    "        final_func = l.strip().split(\";\")[1]\n",
    "        continue\n",
    "\n",
    "    s = l.strip().split(\";\")\n",
    "    t = float(s[0].split(\"=\")[1])\n",
    "    data[t] = {}\n",
    "    for func in s[1:]:\n",
    "        if func:\n",
    "            func,n = func.split(\":\")\n",
    "            try:\n",
    "                func = func.strip().split(\"=\")[1]\n",
    "            except:\n",
    "                func = \"None\"\n",
    "\n",
    "            if convert_to_syms:\n",
    "                ins = func.replace(\"|\", \"\").replace(\"&\",\"\").replace(\"~\",\"\").replace(\"(\",\"\").replace(\")\",\"\").split()\n",
    "                syms = symbols(ins)\n",
    "                for i, sym in zip(ins,syms):\n",
    "                    globals()[i] = sym\n",
    "\n",
    "                func = to_dnf(func, True)\n",
    "\n",
    "            n = int(n)\n",
    "\n",
    "            if func not in data[t]:\n",
    "                data[t][func] = n\n",
    "            else:\n",
    "                data[t][func] += n\n",
    "\n",
    "if convert_to_syms:\n",
    "    final_func = to_dnf(final_func, True)\n",
    "\n",
    "T = list(data.keys())\n",
    "N = sum(data[T[0]].values())\n",
    "\n",
    "final_sol = sorted(list(data[t].items()), key = lambda x: x[1], reverse=True)\n",
    "best_sol = final_sol[0][0]\n",
    "\n",
    "if not final_func:\n",
    "    final_func = best_sol\n",
    "\n",
    "counts = []\n",
    "for t,functions in data.items():\n",
    "    if final_func in functions:\n",
    "        counts.append(functions[final_func]/N)\n",
    "    else:\n",
    "        counts.append(0)   \n",
    "f.close()"
   ]
  },
  {
   "cell_type": "code",
   "execution_count": 62,
   "metadata": {},
   "outputs": [
    {
     "data": {
      "text/plain": [
       "'(in_1) & in_2)'"
      ]
     },
     "execution_count": 62,
     "metadata": {},
     "output_type": "execute_result"
    }
   ],
   "source": [
    "final_func"
   ]
  }
 ],
 "metadata": {
  "kernelspec": {
   "display_name": "Python 3.7.3 64-bit ('base': conda)",
   "language": "python",
   "name": "python37364bitbasecondacd385dda59854559b44e3f82ede14f15"
  },
  "language_info": {
   "codemirror_mode": {
    "name": "ipython",
    "version": 3
   },
   "file_extension": ".py",
   "mimetype": "text/x-python",
   "name": "python",
   "nbconvert_exporter": "python",
   "pygments_lexer": "ipython3",
   "version": "3.7.3"
  }
 },
 "nbformat": 4,
 "nbformat_minor": 2
}
