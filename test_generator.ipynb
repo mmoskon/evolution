{
 "cells": [
  {
   "cell_type": "code",
   "execution_count": 13,
   "source": [
    "import cell\r\n",
    "import models\r\n",
    "import population\r\n",
    "import parameter_values\r\n",
    "import numpy as np"
   ],
   "outputs": [],
   "metadata": {}
  },
  {
   "cell_type": "code",
   "execution_count": 18,
   "source": [
    "import importlib\r\n",
    "importlib.reload(cell)\r\n",
    "importlib.reload(models)\r\n",
    "importlib.reload(population)\r\n",
    "importlib.reload(parameter_values)"
   ],
   "outputs": [
    {
     "output_type": "execute_result",
     "data": {
      "text/plain": [
       "<module 'parameter_values' from 'C:\\\\Users\\\\miham\\\\OneDrive - Univerza v Ljubljani\\\\Research\\\\2021_Evolution\\\\code\\\\evolution\\\\parameter_values.py'>"
      ]
     },
     "metadata": {},
     "execution_count": 18
    }
   ],
   "metadata": {}
  },
  {
   "cell_type": "code",
   "execution_count": 19,
   "source": [
    "pop_gen = population.population()"
   ],
   "outputs": [],
   "metadata": {}
  },
  {
   "cell_type": "code",
   "execution_count": 20,
   "source": [
    "pop_gen.generate_cells_minterms(N=3, N_inputs=2)"
   ],
   "outputs": [
    {
     "output_type": "stream",
     "name": "stdout",
     "text": [
      "{'P0_0_AND00': {'inputs': ['in_1', 'in_2'], 'output': 'y', 'f': <function AND00 at 0x000001E26CB4BC80>}, 'P0_0_AND01': {'inputs': ['in_1', 'in_2'], 'output': 'y', 'f': <function AND01 at 0x000001E26DAAC7B8>}, 'P0_0_AND10': {'inputs': ['in_1', 'in_2'], 'output': 'y', 'f': <function AND10 at 0x000001E26DAAC840>}, 'P0_0_AND11': {'inputs': ['in_1', 'in_2'], 'output': 'y', 'f': <function AND11 at 0x000001E26DAAC8C8>}}\n",
      "***\n",
      "{'P0_0_AND00': {'inputs': ['in_1', 'in_2'], 'output': 'y', 'f': <function AND00 at 0x000001E26CB4BC80>}, 'P0_0_AND01': {'inputs': ['in_1', 'in_2'], 'output': 'y', 'f': <function AND01 at 0x000001E26DAAC7B8>}, 'P0_0_AND10': {'inputs': ['in_1', 'in_2'], 'output': 'y', 'f': <function AND10 at 0x000001E26DAAC840>}, 'P0_0_AND11': {'inputs': ['in_1', 'in_2'], 'output': 'y', 'f': <function AND11 at 0x000001E26DAAC8C8>}}\n",
      "***\n",
      "{'P0_0_AND00': {'inputs': ['in_1', 'in_2'], 'output': 'y', 'f': <function AND00 at 0x000001E26CB4BC80>}, 'P0_0_AND01': {'inputs': ['in_1', 'in_2'], 'output': 'y', 'f': <function AND01 at 0x000001E26DAAC7B8>}, 'P0_0_AND10': {'inputs': ['in_1', 'in_2'], 'output': 'y', 'f': <function AND10 at 0x000001E26DAAC840>}, 'P0_0_AND11': {'inputs': ['in_1', 'in_2'], 'output': 'y', 'f': <function AND11 at 0x000001E26DAAC8C8>}}\n",
      "***\n",
      "{'P0_0_AND00': {'inputs': ['in_1', 'in_2'], 'output': 'y', 'f': <function AND00 at 0x000001E26CB4BC80>}, 'P0_0_AND01': {'inputs': ['in_1', 'in_2'], 'output': 'y', 'f': <function AND01 at 0x000001E26DAAC7B8>}, 'P0_0_AND10': {'inputs': ['in_1', 'in_2'], 'output': 'y', 'f': <function AND10 at 0x000001E26DAAC840>}, 'P0_0_AND11': {'inputs': ['in_1', 'in_2'], 'output': 'y', 'f': <function AND11 at 0x000001E26DAAC8C8>}}\n",
      "***\n",
      "{'P0_0_AND00': {'inputs': ['in_1', 'in_2'], 'output': 'y', 'f': <function AND00 at 0x000001E26CB4BC80>}, 'P0_0_AND01': {'inputs': ['in_1', 'in_2'], 'output': 'y', 'f': <function AND01 at 0x000001E26DAAC7B8>}, 'P0_0_AND10': {'inputs': ['in_1', 'in_2'], 'output': 'y', 'f': <function AND10 at 0x000001E26DAAC840>}, 'P0_0_AND11': {'inputs': ['in_1', 'in_2'], 'output': 'y', 'f': <function AND11 at 0x000001E26DAAC8C8>}}\n",
      "***\n",
      "{'P0_0_AND00': {'inputs': ['in_1', 'in_2'], 'output': 'y', 'f': <function AND00 at 0x000001E26CB4BC80>}, 'P0_0_AND01': {'inputs': ['in_1', 'in_2'], 'output': 'y', 'f': <function AND01 at 0x000001E26DAAC7B8>}, 'P0_0_AND10': {'inputs': ['in_1', 'in_2'], 'output': 'y', 'f': <function AND10 at 0x000001E26DAAC840>}, 'P0_0_AND11': {'inputs': ['in_1', 'in_2'], 'output': 'y', 'f': <function AND11 at 0x000001E26DAAC8C8>}}\n",
      "***\n",
      "{'P0_0_AND00': {'inputs': ['in_1', 'in_2'], 'output': 'y', 'f': <function AND00 at 0x000001E26CB4BC80>}, 'P0_0_AND01': {'inputs': ['in_1', 'in_2'], 'output': 'y', 'f': <function AND01 at 0x000001E26DAAC7B8>}, 'P0_0_AND10': {'inputs': ['in_1', 'in_2'], 'output': 'y', 'f': <function AND10 at 0x000001E26DAAC840>}, 'P0_0_AND11': {'inputs': ['in_1', 'in_2'], 'output': 'y', 'f': <function AND11 at 0x000001E26DAAC8C8>}}\n",
      "***\n",
      "{'P0_0_AND00': {'inputs': ['in_1', 'in_2'], 'output': 'y', 'f': <function AND00 at 0x000001E26CB4BC80>}, 'P0_0_AND01': {'inputs': ['in_1', 'in_2'], 'output': 'y', 'f': <function AND01 at 0x000001E26DAAC7B8>}, 'P0_0_AND10': {'inputs': ['in_1', 'in_2'], 'output': 'y', 'f': <function AND10 at 0x000001E26DAAC840>}, 'P0_0_AND11': {'inputs': ['in_1', 'in_2'], 'output': 'y', 'f': <function AND11 at 0x000001E26DAAC8C8>}}\n",
      "***\n",
      "{'P0_0_AND00': {'inputs': ['in_1', 'in_2'], 'output': 'y', 'f': <function AND00 at 0x000001E26CB4BC80>}, 'P0_0_AND01': {'inputs': ['in_1', 'in_2'], 'output': 'y', 'f': <function AND01 at 0x000001E26DAAC7B8>}, 'P0_0_AND10': {'inputs': ['in_1', 'in_2'], 'output': 'y', 'f': <function AND10 at 0x000001E26DAAC840>}, 'P0_0_AND11': {'inputs': ['in_1', 'in_2'], 'output': 'y', 'f': <function AND11 at 0x000001E26DAAC8C8>}}\n",
      "***\n"
     ]
    }
   ],
   "metadata": {}
  },
  {
   "cell_type": "code",
   "execution_count": 12,
   "source": [
    "pop_gen.pop[0,0].plasmids"
   ],
   "outputs": [
    {
     "output_type": "execute_result",
     "data": {
      "text/plain": [
       "{'P1_0_NOT': {'inputs': ['in_1'],\n",
       "  'output': 'y',\n",
       "  'f': <function models.NOT(x, params=(10, 1, 2))>},\n",
       " 'P1_2_NOT': {'inputs': ['x_1_1'],\n",
       "  'output': 'y',\n",
       "  'f': <function models.NOT(x, params=(10, 1, 2))>},\n",
       " 'P1_0_AND': {'inputs': ['in_1', 'in_2'],\n",
       "  'output': 'y',\n",
       "  'f': <function models.AND(in1, in2, params=(10, 1, 2))>},\n",
       " 'P0_2_YES': {'inputs': ['in_2'],\n",
       "  'output': 'x_1_1',\n",
       "  'f': <function models.YES(x, params=(10, 1, 2))>},\n",
       " 'P1_3_NOT': {'inputs': ['x_1_2'],\n",
       "  'output': 'y',\n",
       "  'f': <function models.NOT(x, params=(10, 1, 2))>},\n",
       " 'P0_2_NOT': {'inputs': ['in_2'],\n",
       "  'output': 'x_1_1',\n",
       "  'f': <function models.NOT(x, params=(10, 1, 2))>},\n",
       " 'P1_1_AND': {'inputs': ['in_1', 'x_1_1'],\n",
       "  'output': 'y',\n",
       "  'f': <function models.AND(in1, in2, params=(10, 1, 2))>},\n",
       " 'P0_3_NOT': {'inputs': ['in_2'],\n",
       "  'output': 'x_1_2',\n",
       "  'f': <function models.NOT(x, params=(10, 1, 2))>},\n",
       " 'P1_3_AND': {'inputs': ['in_2', 'x_1_1'],\n",
       "  'output': 'y',\n",
       "  'f': <function models.AND(in1, in2, params=(10, 1, 2))>}}"
      ]
     },
     "metadata": {},
     "execution_count": 12
    }
   ],
   "metadata": {}
  }
 ],
 "metadata": {
  "kernelspec": {
   "display_name": "Python 3.7.3 64-bit ('base': conda)",
   "language": "python",
   "name": "python37364bitbasecondacd385dda59854559b44e3f82ede14f15"
  },
  "language_info": {
   "codemirror_mode": {
    "name": "ipython",
    "version": 3
   },
   "file_extension": ".py",
   "mimetype": "text/x-python",
   "name": "python",
   "nbconvert_exporter": "python",
   "pygments_lexer": "ipython3",
   "version": "3.7.3"
  }
 },
 "nbformat": 4,
 "nbformat_minor": 2
}