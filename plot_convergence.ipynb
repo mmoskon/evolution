{
 "cells": [
  {
   "cell_type": "code",
   "execution_count": 1,
   "metadata": {},
   "outputs": [],
   "source": [
    "import numpy as np\n",
    "import pandas as pd\n",
    "import matplotlib.pyplot as plt\n",
    "import os\n",
    "import seaborn as sns\n",
    "\n",
    "from sympy import symbols\n",
    "from sympy.logic.boolalg import to_dnf\n",
    "\n",
    "import itertools\n",
    "from scipy import stats\n",
    "\n",
    "import statsmodels.stats.multitest as multi\n",
    "\n",
    "import pickle"
   ]
  },
  {
   "cell_type": "code",
   "execution_count": 10,
   "metadata": {},
   "outputs": [],
   "source": [
    "#selected_folder = \"functions_simple_and2\"\n",
    "#selected_folder = \"functions_simple_or2\"\n",
    "selected_folder = \"functions_simple_xor2\"\n",
    "#selected_folder = \"functions_minterms_and2\"\n",
    "#selected_folder = \"functions_minterms_or2\"\n",
    "#selected_folder = \"functions_minterms_xor2\"\n",
    "#selected_folder = \"functions_minterms_and3\"\n",
    "#selected_folder = \"functions_minterms_or3\"\n",
    "#selected_folder = \"functions_minterms_xor3\"\n",
    "\n",
    "load_from_pickle = True"
   ]
  },
  {
   "cell_type": "code",
   "execution_count": 11,
   "metadata": {},
   "outputs": [],
   "source": [
    "folder = os.path.join(\"tests\", selected_folder)\n",
    "subfolders = os.listdir(folder)\n",
    "subfolders = [x for x in subfolders if os.path.isdir(os.path.join(folder,x))]\n",
    "subfolders = sorted(subfolders, key=lambda x: int(x))"
   ]
  },
  {
   "cell_type": "code",
   "execution_count": 12,
   "metadata": {},
   "outputs": [],
   "source": [
    "def read_file(file_name, convert_to_syms = True): # convert_to_syms: converts a string presenting a function to a symbolic expression using the sympy library\n",
    "\n",
    "    f = open(file_name)\n",
    "    final_func = None\n",
    "\n",
    "    data = {}\n",
    "    for l in f:\n",
    "        if l.startswith(\"-1\"):\n",
    "            final_func = l.strip().split(\";\")[1]\n",
    "            continue\n",
    "\n",
    "        s = l.strip().split(\";\")\n",
    "        t = float(s[0].split(\"=\")[1])\n",
    "        data[t] = {}\n",
    "        for func in s[1:]:\n",
    "            if func:\n",
    "                func,n = func.split(\":\")\n",
    "                try:\n",
    "                    func = func.strip().split(\"=\")[1]\n",
    "                except:\n",
    "                    func = \"None\"\n",
    "\n",
    "                if convert_to_syms:\n",
    "                    ins = func.replace(\"|\", \"\").replace(\"&\",\"\").replace(\"~\",\"\").replace(\"(\",\"\").replace(\")\",\"\").split()\n",
    "                    syms = symbols(ins)\n",
    "                    for i, sym in zip(ins,syms):\n",
    "                        globals()[i] = sym\n",
    "\n",
    "                    func = to_dnf(func, True)\n",
    "\n",
    "                n = int(n)\n",
    "                \n",
    "                if func not in data[t]:\n",
    "                    data[t][func] = n\n",
    "                else:\n",
    "                    data[t][func] += n\n",
    "\n",
    "    if final_func and convert_to_syms:\n",
    "        final_func = to_dnf(final_func, True)\n",
    "\n",
    "    T = list(data.keys())\n",
    "    N = sum(data[T[0]].values())\n",
    "\n",
    "    final_sol = sorted(list(data[t].items()), key = lambda x: x[1], reverse=True)\n",
    "    best_sol = final_sol[0][0]\n",
    "    \n",
    "    #print(best_sol)\n",
    "    #print(final_func)\n",
    "    \n",
    "    if not final_func: \n",
    "        final_func = best_sol # if final function is not specified take the converged solution...\n",
    "        \n",
    "        \n",
    "    counts = []\n",
    "    for t,functions in data.items():\n",
    "        if final_func in functions:\n",
    "            counts.append(functions[final_func]/N)\n",
    "        else:\n",
    "            counts.append(0)   \n",
    "    f.close()\n",
    "    return(N, T, counts, final_func)"
   ]
  },
  {
   "cell_type": "code",
   "execution_count": 13,
   "metadata": {},
   "outputs": [],
   "source": [
    "def save_results(results, file_name):\n",
    "    f = open(file_name, 'wb')\n",
    "    pickle.dump(results, f, protocol=pickle.HIGHEST_PROTOCOL)\n",
    "    f.close()\n",
    "\n",
    "def load_results(file_name):\n",
    "    f = open(file_name, 'rb')\n",
    "    results = pickle.load(f)\n",
    "    f.close()\n",
    "    \n",
    "    return results\n",
    "    \n",
    "    \n",
    "    "
   ]
  },
  {
   "cell_type": "code",
   "execution_count": 14,
   "metadata": {},
   "outputs": [
    {
     "data": {
      "text/plain": [
       "['4', '25', '49', '100']"
      ]
     },
     "execution_count": 14,
     "metadata": {},
     "output_type": "execute_result"
    }
   ],
   "source": [
    "subfolders"
   ]
  },
  {
   "cell_type": "code",
   "execution_count": 15,
   "metadata": {},
   "outputs": [],
   "source": [
    "if not load_from_pickle:\n",
    "\n",
    "    results = {}\n",
    "\n",
    "    for subfolder in subfolders:\n",
    "        file_names = os.listdir(os.path.join(folder,subfolder))\n",
    "        Cs = []\n",
    "\n",
    "        for file_name in file_names:\n",
    "            if file_name.endswith('txt'):\n",
    "                N, T, counts, _ = read_file(os.path.join(folder,subfolder,file_name), convert_to_syms = True)\n",
    "                Cs.append(counts)\n",
    "\n",
    "        Cs = np.array(Cs)\n",
    "\n",
    "        results[N] = (T, Cs)\n",
    "        \n",
    "    save_results(results,os.path.join(folder,'dump.p'))\n",
    "else:\n",
    "    results = load_results(os.path.join(folder,'dump.p'))"
   ]
  },
  {
   "cell_type": "code",
   "execution_count": 16,
   "metadata": {},
   "outputs": [
    {
     "data": {
      "image/png": "[encoded data removed]",
      "text/plain": [
       "<Figure size 1008x432 with 4 Axes>"
      ]
     },
     "metadata": {
      "needs_background": "light"
     },
     "output_type": "display_data"
    }
   ],
   "source": [
    "fig, axes = plt.subplots(1,len(results), sharey=True)\n",
    "\n",
    "Ns = sorted(results.keys(), key=lambda x: int(x))\n",
    "\n",
    "for i, N in enumerate(Ns):\n",
    "    ax = axes.flat[i]\n",
    "    \n",
    "    T, Cs = results[N]\n",
    "    \n",
    "    for j,counts in enumerate(Cs):\n",
    "        if not j:\n",
    "            ax.plot(T, counts, color=\"black\", alpha = 0.25, label='convergence')\n",
    "        else:\n",
    "            ax.plot(T, counts, color=\"black\", alpha = 0.25, label='_no_legend')\n",
    "    mean_Cs = np.mean(Cs, axis=0)\n",
    "    std_CS = np.std(Cs, axis=0)\n",
    "    Cs_low = mean_Cs - 1.96*std_CS\n",
    "    Cs_up = mean_Cs + 1.96*std_CS\n",
    "    \n",
    "    ax.plot(T, mean_Cs, color=\"red\", alpha = 1, label='mean convergence')\n",
    "    ax.fill_between(T, Cs_low, Cs_up, color='red', alpha=0.05)\n",
    "    \n",
    "    ax.legend()\n",
    "    ax.set_xlabel(\"Time [min]\")\n",
    "    ax.set_ylabel(\"Fraction of cells\")\n",
    "    ax.set_title(f\"N={N}\")\n",
    "    \n",
    "    ax.set_ylim([0,1])\n",
    "    \n",
    "    fig=plt.gcf()\n",
    "\n",
    "    fig.set_size_inches([14,6])\n",
    "    \n",
    "\n",
    "plt.savefig(os.path.join(folder,f'convergence_{selected_folder}.pdf'), bbox_inches = 'tight')\n",
    "plt.show()\n"
   ]
  },
  {
   "cell_type": "code",
   "execution_count": 9,
   "metadata": {},
   "outputs": [
    {
     "ename": "ValueError",
     "evalue": "All numbers are identical in mannwhitneyu",
     "output_type": "error",
     "traceback": [
      "\u001b[1;31m---------------------------------------------------------------------------\u001b[0m",
      "\u001b[1;31mValueError\u001b[0m                                Traceback (most recent call last)",
      "\u001b[1;32m<ipython-input-9-dc871e84bc49>\u001b[0m in \u001b[0;36m<module>\u001b[1;34m\u001b[0m\n\u001b[0;32m     36\u001b[0m \u001b[1;33m\u001b[0m\u001b[0m\n\u001b[0;32m     37\u001b[0m \u001b[1;32mfor\u001b[0m \u001b[0mN1\u001b[0m\u001b[1;33m,\u001b[0m \u001b[0mN2\u001b[0m \u001b[1;32min\u001b[0m \u001b[0mitertools\u001b[0m\u001b[1;33m.\u001b[0m\u001b[0mcombinations\u001b[0m\u001b[1;33m(\u001b[0m\u001b[0mlist\u001b[0m\u001b[1;33m(\u001b[0m\u001b[0mconvergence\u001b[0m\u001b[1;33m.\u001b[0m\u001b[0mkeys\u001b[0m\u001b[1;33m(\u001b[0m\u001b[1;33m)\u001b[0m\u001b[1;33m)\u001b[0m\u001b[1;33m,\u001b[0m \u001b[1;36m2\u001b[0m\u001b[1;33m)\u001b[0m\u001b[1;33m:\u001b[0m\u001b[1;33m\u001b[0m\u001b[1;33m\u001b[0m\u001b[0m\n\u001b[1;32m---> 38\u001b[1;33m     \u001b[0mp_MW\u001b[0m \u001b[1;33m=\u001b[0m \u001b[0mstats\u001b[0m\u001b[1;33m.\u001b[0m\u001b[0mmannwhitneyu\u001b[0m\u001b[1;33m(\u001b[0m\u001b[0mconvergence\u001b[0m\u001b[1;33m[\u001b[0m\u001b[0mN1\u001b[0m\u001b[1;33m]\u001b[0m\u001b[1;33m,\u001b[0m \u001b[0mconvergence\u001b[0m\u001b[1;33m[\u001b[0m\u001b[0mN2\u001b[0m\u001b[1;33m]\u001b[0m\u001b[1;33m)\u001b[0m\u001b[1;33m[\u001b[0m\u001b[1;36m1\u001b[0m\u001b[1;33m]\u001b[0m\u001b[1;33m\u001b[0m\u001b[1;33m\u001b[0m\u001b[0m\n\u001b[0m\u001b[0;32m     39\u001b[0m     \u001b[0mPs\u001b[0m\u001b[1;33m.\u001b[0m\u001b[0mappend\u001b[0m\u001b[1;33m(\u001b[0m\u001b[0mp_MW\u001b[0m\u001b[1;33m)\u001b[0m\u001b[1;33m\u001b[0m\u001b[1;33m\u001b[0m\u001b[0m\n\u001b[0;32m     40\u001b[0m     \u001b[0mNs\u001b[0m\u001b[1;33m.\u001b[0m\u001b[0mappend\u001b[0m\u001b[1;33m(\u001b[0m\u001b[1;33m(\u001b[0m\u001b[0mN1\u001b[0m\u001b[1;33m,\u001b[0m\u001b[0mN2\u001b[0m\u001b[1;33m)\u001b[0m\u001b[1;33m)\u001b[0m\u001b[1;33m\u001b[0m\u001b[1;33m\u001b[0m\u001b[0m\n",
      "\u001b[1;32mC:\\ProgramData\\Anaconda3\\lib\\site-packages\\scipy\\stats\\stats.py\u001b[0m in \u001b[0;36mmannwhitneyu\u001b[1;34m(x, y, use_continuity, alternative)\u001b[0m\n\u001b[0;32m   4985\u001b[0m     \u001b[0mT\u001b[0m \u001b[1;33m=\u001b[0m \u001b[0mtiecorrect\u001b[0m\u001b[1;33m(\u001b[0m\u001b[0mranked\u001b[0m\u001b[1;33m)\u001b[0m\u001b[1;33m\u001b[0m\u001b[1;33m\u001b[0m\u001b[0m\n\u001b[0;32m   4986\u001b[0m     \u001b[1;32mif\u001b[0m \u001b[0mT\u001b[0m \u001b[1;33m==\u001b[0m \u001b[1;36m0\u001b[0m\u001b[1;33m:\u001b[0m\u001b[1;33m\u001b[0m\u001b[1;33m\u001b[0m\u001b[0m\n\u001b[1;32m-> 4987\u001b[1;33m         \u001b[1;32mraise\u001b[0m \u001b[0mValueError\u001b[0m\u001b[1;33m(\u001b[0m\u001b[1;34m'All numbers are identical in mannwhitneyu'\u001b[0m\u001b[1;33m)\u001b[0m\u001b[1;33m\u001b[0m\u001b[1;33m\u001b[0m\u001b[0m\n\u001b[0m\u001b[0;32m   4988\u001b[0m     \u001b[0msd\u001b[0m \u001b[1;33m=\u001b[0m \u001b[0mnp\u001b[0m\u001b[1;33m.\u001b[0m\u001b[0msqrt\u001b[0m\u001b[1;33m(\u001b[0m\u001b[0mT\u001b[0m \u001b[1;33m*\u001b[0m \u001b[0mn1\u001b[0m \u001b[1;33m*\u001b[0m \u001b[0mn2\u001b[0m \u001b[1;33m*\u001b[0m \u001b[1;33m(\u001b[0m\u001b[0mn1\u001b[0m\u001b[1;33m+\u001b[0m\u001b[0mn2\u001b[0m\u001b[1;33m+\u001b[0m\u001b[1;36m1\u001b[0m\u001b[1;33m)\u001b[0m \u001b[1;33m/\u001b[0m \u001b[1;36m12.0\u001b[0m\u001b[1;33m)\u001b[0m\u001b[1;33m\u001b[0m\u001b[1;33m\u001b[0m\u001b[0m\n\u001b[0;32m   4989\u001b[0m \u001b[1;33m\u001b[0m\u001b[0m\n",
      "\u001b[1;31mValueError\u001b[0m: All numbers are identical in mannwhitneyu"
     ]
    }
   ],
   "source": [
    "f = open(os.path.join(folder,f'statistics_{selected_folder}.txt'),'w')\n",
    "\n",
    "convergence = {}\n",
    "\n",
    "for i, N in enumerate(results):\n",
    "    _, Cs = results[N]\n",
    "    convergence[N] = Cs[:,-1]\n",
    "    \n",
    "p_KW = stats.kruskal(*convergence.values())[1]\n",
    "if p_KW < 0.05:\n",
    "    r = \"rejected\"\n",
    "else:\n",
    "    r = \"not rejected\"\n",
    "    \n",
    "print(f'Kruskal-Wallis H-test: {p_KW}, H0 {r}', file=f)\n",
    "\n",
    "print(file=f)\n",
    "\n",
    "print('\\\\bigskip', file=f)\n",
    "\n",
    "print(file=f)\n",
    "\n",
    "\"\"\"\n",
    "p_KW = stats.kruskal(*list(convergence.values())[1:])[1]\n",
    "if p_KW < 0.05:\n",
    "    r = \"rejected\"\n",
    "else:\n",
    "    r = \"not_rejected\"\n",
    "\n",
    "print(f'Kruskal-Wallis H-test without the smallest lattice (H0: the population median of all of the groups are equal): {p_KW}, H0 {r}', file=f)\n",
    "\n",
    "print()\n",
    "\"\"\"\n",
    "Ps = []\n",
    "Ns = []\n",
    "\n",
    "for N1, N2 in itertools.combinations(list(convergence.keys()), 2):\n",
    "    p_MW = stats.mannwhitneyu(convergence[N1], convergence[N2])[1]\n",
    "    Ps.append(p_MW)\n",
    "    Ns.append((N1,N2))\n",
    "    \n",
    "Qs = multi.multipletests(Ps, method = 'fdr_bh')[1]\n",
    "\n",
    "\n",
    "#print(\"Mann-Whitney U test (nonparametric test, H0: both distributions are the same)\", file=f)\n",
    "print(\"\\\\noindent Mann-Whitney U test:\", file=f)\n",
    "print(\"\\\\begin{itemize}\", file=f)\n",
    "\n",
    "\n",
    "for (N1, N2), p_MW in zip(Ns, Qs):\n",
    "    if p_MW < 0.05:\n",
    "        r = \"rejected\"\n",
    "    else:\n",
    "        r = \"not rejected\"\n",
    "    \n",
    "    print(f'\\\\item {N1} vs. {N2}: {p_MW}, H0 {r}', file=f)\n",
    "\n",
    "print(\"\\\\end{itemize}\", file=f)\n",
    "f.close()\n",
    "\n",
    "\n"
   ]
  },
  {
   "cell_type": "code",
   "execution_count": null,
   "metadata": {},
   "outputs": [],
   "source": []
  }
 ],
 "metadata": {
  "kernelspec": {
   "display_name": "Python 3.7.3 64-bit ('base': conda)",
   "language": "python",
   "name": "python37364bitbasecondacd385dda59854559b44e3f82ede14f15"
  },
  "language_info": {
   "codemirror_mode": {
    "name": "ipython",
    "version": 3
   },
   "file_extension": ".py",
   "mimetype": "text/x-python",
   "name": "python",
   "nbconvert_exporter": "python",
   "pygments_lexer": "ipython3",
   "version": "3.7.3"
  }
 },
 "nbformat": 4,
 "nbformat_minor": 2
}
